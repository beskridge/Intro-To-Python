{
 "cells": [
  {
   "cell_type": "markdown",
   "metadata": {},
   "source": [
    "# Chapter 7: Iteration\n",
    "***\n",
    "__Contents__\n",
    "- [Multiple assignment](#Multiple-assignment)\n",
    "- [Updating variables](#Updating-variables)\n",
    "- [The while statement](#The-while-statement)\n",
    "- [Break statement](#Break-statement)\n",
    "- [Exercises](#Exercises)\n",
    "***\n",
    "\n",
    "_This notebook is based on \"Think Python, 2Ed\" by Allen B. Downey_ <br>\n",
    "[https://greenteapress.com/wp/think-python-2e/](https://greenteapress.com/wp/think-python-2e/)\n",
    "***"
   ]
  },
  {
   "cell_type": "markdown",
   "metadata": {},
   "source": [
    "## Multiple assignment\n",
    "- You can assign a value to a variable as many times as needed\n",
    "- For example, this may be necessary in a loop\n",
    "- Don't forget that the difference between assignment (``=``) and an equality test (``==``)\n",
    "- Note that when you assign the value of one variable to another, it uses the value at that moment"
   ]
  },
  {
   "cell_type": "code",
   "execution_count": 1,
   "metadata": {},
   "outputs": [],
   "source": [
    "a = 5\n",
    "b = a    # a and b are now equal\n",
    "a = 3    # a and b are no longer equal"
   ]
  },
  {
   "cell_type": "markdown",
   "metadata": {},
   "source": [
    "## Updating variables\n",
    "- As we have seen, multiple assignment usually occurs when you update a variable's value\n",
    "- Rmember, you have to initialize the variable before you use it"
   ]
  },
  {
   "cell_type": "code",
   "execution_count": 2,
   "metadata": {},
   "outputs": [],
   "source": [
    "#x = x + 1    # Generates an error\n",
    "\n",
    "x = 0\n",
    "x = x + 1    # Works properly now"
   ]
  },
  {
   "cell_type": "markdown",
   "metadata": {},
   "source": [
    "- Adding 1 to a variable is referred to as incrementing the value\n",
    "- Subtracting 1 from a variable is referred to as decrementing the value\n",
    "- Other languages have operators that do this in one step, but Python doesn't"
   ]
  },
  {
   "cell_type": "markdown",
   "metadata": {},
   "source": [
    "## The while statement\n",
    "- We have previously discussed using a ``for`` loop for iteration\n",
    "- Python provides other options for iteration\n",
    "- The ``while`` loop can also be used"
   ]
  },
  {
   "cell_type": "code",
   "execution_count": 3,
   "metadata": {},
   "outputs": [
    {
     "name": "stdout",
     "output_type": "stream",
     "text": [
      "5\n",
      "4\n",
      "3\n",
      "2\n",
      "1\n",
      "Blastoff!\n"
     ]
    }
   ],
   "source": [
    "def countdown( n ):\n",
    "    while( n > 0 ):\n",
    "        print( n )\n",
    "        n = n - 1\n",
    "    print( 'Blastoff!' )\n",
    "    \n",
    "countdown( 5 )"
   ]
  },
  {
   "cell_type": "markdown",
   "metadata": {},
   "source": [
    "- The loop continues while the conditional test ``n > 0`` is true\n",
    "- Note that this can result in an __infinite loop__\n",
    "- While loops are often controlled via a single ``boolean`` variable\n",
    "- It is referred to as a __sentinel__ variable\n",
    "- While you can have iteration with either a ``for`` or ``while`` loop, there are generally differences in how they are used\n",
    "- A ``for`` loop can be referred to as a __definite loop__\n",
    "- It is used when you know the number of times the loop should repeat before the loop is ever started\n",
    "- A ``while`` loop can be referred to as an __indefinite loop__\n",
    "- It is used when you don't know how many times a loop should repeat\n",
    "- Notice the difference between an __infinite__ loop and an __indefinite__ loop"
   ]
  },
  {
   "cell_type": "markdown",
   "metadata": {},
   "source": [
    "## Break statement\n",
    "- Sometimes you don't know you need to end a particular iteration of a loop until you are already inside it\n",
    "- In those situations, a ``break`` statement will allow you to break out of the loop"
   ]
  },
  {
   "cell_type": "code",
   "execution_count": 4,
   "metadata": {},
   "outputs": [],
   "source": [
    "def echo():\n",
    "    while( True ):\n",
    "        line = input( '> ' )\n",
    "        if( 'done' == line ):\n",
    "            break\n",
    "        print( line )\n",
    "    print( 'Done!' )"
   ]
  },
  {
   "cell_type": "markdown",
   "metadata": {},
   "source": [
    "- This loop will continue to execute until the user enters the appropriate text\n",
    "- Although ``break`` statements can be useful, be careful\n",
    "- Overuse can lead to sloppy and confusing code\n",
    "- There are frequently better options if you take the time to think through the problem"
   ]
  },
  {
   "cell_type": "markdown",
   "metadata": {},
   "source": [
    "## Exercises\n",
    "- Build a program that implements a number guessing game.  The program should be passed a high and low number.  It should then generate a random number in between the high and low values.  The program should then repeatedly prompt the user for a value, noting if the value was too high, too low, or correct.  When the correct value is guessed, the program should terminate."
   ]
  },
  {
   "cell_type": "code",
   "execution_count": 5,
   "metadata": {},
   "outputs": [],
   "source": [
    "def start_guessing( low, high ):\n",
    "    # INSERT YOUR CODE HERE\n",
    "    print( 'Correct!' )"
   ]
  },
  {
   "cell_type": "markdown",
   "metadata": {},
   "source": [
    "- Write a function that calculates the sum of the squares of the first $n$ positive integers.  The function should take the number ``n`` as an argument and return the sum."
   ]
  },
  {
   "cell_type": "code",
   "execution_count": 6,
   "metadata": {},
   "outputs": [],
   "source": [
    "def sum_squares( n ):\n",
    "    # INSERT YOUR CODE HERE\n",
    "    return 0"
   ]
  },
  {
   "cell_type": "markdown",
   "metadata": {},
   "source": [
    "- Write a function that computes the total amount of money you would receive if you received a penny a day doubled a day for a month.  For example, on the first day you would get\\\\ $0.01, on the second day you would get \\\\$0.02 (for a total of \\$0.03), on the third day you would get \\\\$0.04 (for a total of \\\\$0.07), and so on.  Your function should take the number of days in the month as an argument and return the total amount of money you would receive.  Furthermore, the function should print out the amount received for each day and the current total up to that day."
   ]
  },
  {
   "cell_type": "code",
   "execution_count": 7,
   "metadata": {},
   "outputs": [],
   "source": [
    "def double_money( days ):\n",
    "    # INSERT YOUR CODE HERE\n",
    "    return 0"
   ]
  }
 ],
 "metadata": {
  "kernelspec": {
   "display_name": "Python 3",
   "language": "python",
   "name": "python3"
  },
  "language_info": {
   "codemirror_mode": {
    "name": "ipython",
    "version": 3
   },
   "file_extension": ".py",
   "mimetype": "text/x-python",
   "name": "python",
   "nbconvert_exporter": "python",
   "pygments_lexer": "ipython3",
   "version": "3.7.3"
  }
 },
 "nbformat": 4,
 "nbformat_minor": 2
}
