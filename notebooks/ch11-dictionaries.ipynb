{
 "cells": [
  {
   "cell_type": "markdown",
   "metadata": {},
   "source": [
    "# Chapter 11: Dictionaries\n",
    "***\n",
    "__Contents__\n",
    "- [A dictionary is a mapping](#A-dictionary-is-a-mapping)\n",
    "- [Dictionary as a set of counters](#Dictionary-as-a-set-of-counters)\n",
    "- [Looping and dictionaries](#Looping-and-dictionaries)\n",
    "- [Reverse lookup](#Reverse-lookup)\n",
    "- [Dictionaries and lists](#Dictionaries-and-lists)\n",
    "- [Global variables](#Global-variables)\n",
    "- [Debugging](#Debugging)\n",
    "- [Exercises](#Exercises)\n",
    "***\n",
    "\n",
    "_This notebook is based on \"Think Python, 2Ed\" by Allen B. Downey_ <br>\n",
    "[https://greenteapress.com/wp/think-python-2e/](https://greenteapress.com/wp/think-python-2e/)\n",
    "***"
   ]
  },
  {
   "cell_type": "markdown",
   "metadata": {},
   "source": [
    "## A dictionary is a mapping\n",
    "- A __dictionary__ (or __map__) is a mapping between __keys__ and __values__\n",
    "- Real-world examples are dictionaries of words and phone-books\n",
    "- A __key-value pair__ is an association between a key (e.g., a word) and a value (e.g., a definition)\n",
    "- The function ``dict`` creates a new dictionary object with no items\n",
    "- For example, we can create a dictionary that maps birthdays to a person's name"
   ]
  },
  {
   "cell_type": "code",
   "execution_count": 1,
   "metadata": {},
   "outputs": [
    {
     "name": "stdout",
     "output_type": "stream",
     "text": [
      "{}\n"
     ]
    }
   ],
   "source": [
    "birthdays = dict()\n",
    "print( birthdays )"
   ]
  },
  {
   "cell_type": "markdown",
   "metadata": {},
   "source": [
    "- To add an item to the dictionary, use square brackets like a list"
   ]
  },
  {
   "cell_type": "code",
   "execution_count": 2,
   "metadata": {},
   "outputs": [
    {
     "name": "stdout",
     "output_type": "stream",
     "text": [
      "{'0704': 'Steve', '0529': 'Tony'}\n"
     ]
    }
   ],
   "source": [
    "birthdays['0704'] = 'Steve'\n",
    "birthdays['0529'] = 'Tony'\n",
    "print( birthdays )"
   ]
  },
  {
   "cell_type": "markdown",
   "metadata": {},
   "source": [
    "- Note that order isn't preserved in a dictionary (unlike a list)\n",
    "- The values can be retrieved using the same notation"
   ]
  },
  {
   "cell_type": "code",
   "execution_count": 3,
   "metadata": {},
   "outputs": [
    {
     "name": "stdout",
     "output_type": "stream",
     "text": [
      "Tony\n"
     ]
    }
   ],
   "source": [
    "print( birthdays['0529'] )"
   ]
  },
  {
   "cell_type": "markdown",
   "metadata": {},
   "source": [
    "- The Python documentation for dictionaries is quite extensive: [https://docs.python.org/3/tutorial/datastructures.html#dictionaries](#https://docs.python.org/3/tutorial/datastructures.html#dictionaries)\n",
    "- Dictionaries have a number of methods available"
   ]
  },
  {
   "cell_type": "code",
   "execution_count": 4,
   "metadata": {},
   "outputs": [
    {
     "name": "stdout",
     "output_type": "stream",
     "text": [
      "2\n",
      "dict_values(['Steve', 'Tony'])\n",
      "dict_keys(['0704', '0529'])\n"
     ]
    }
   ],
   "source": [
    "# Get the number of key-value pairs\n",
    "print( len( birthdays ) )\n",
    "\n",
    "# Get the values in the dictionary\n",
    "print( birthdays.values() )\n",
    "\n",
    "# Get the keys in the dictionary\n",
    "print( birthdays.keys() )"
   ]
  },
  {
   "cell_type": "markdown",
   "metadata": {},
   "source": [
    "## Dictionary as a set of counters\n",
    "- Often there are many alternatives for implementing a computation\n",
    "- Some are better than others (as we saw with the Fibonacci series)\n",
    "- If you need to count how many times a letter appears in a string, you could:\n",
    "  - Create 26 variables with each holding the number of times a letter occurs\n",
    "  - Create a list with 26 elements with each index corresponding to a letter\n",
    "  - Create a dictionary with the letters as keys and the values as the counters\n",
    "- What are the pros and cons with each approach?"
   ]
  },
  {
   "cell_type": "markdown",
   "metadata": {},
   "source": [
    "## Looping and dictionaries\n",
    "- If you use a dictionary in a ``for`` statement, the loop traverses the dictionary's keys\n",
    "- Remember that there is no implied ordering of keys in a dictionary"
   ]
  },
  {
   "cell_type": "code",
   "execution_count": 5,
   "metadata": {},
   "outputs": [
    {
     "name": "stdout",
     "output_type": "stream",
     "text": [
      "0704\n",
      "0529\n"
     ]
    }
   ],
   "source": [
    "for a_date in birthdays:\n",
    "    print( a_date )"
   ]
  },
  {
   "cell_type": "markdown",
   "metadata": {},
   "source": [
    "## Reverse lookup\n",
    "- Dictionaries are designed to find a value given a key\n",
    "- This is called a __lookup__\n",
    "- What if you want to do the reverse? (Note: this is referred to as a __reverse lookup__)\n",
    "- For example, what if you want to lookup a word by its definition?\n",
    "- Unfortunately there is no simple function to do that\n",
    "- _Why might that be?_\n",
    "- The book presents a simple function that implements this functionality"
   ]
  },
  {
   "cell_type": "code",
   "execution_count": 6,
   "metadata": {},
   "outputs": [],
   "source": [
    "def reverse_lookup( a_dict, value ):\n",
    "    for key in a_dict:\n",
    "        if a_dict[key] == value:\n",
    "            return key\n",
    "    raise ValueError"
   ]
  },
  {
   "cell_type": "markdown",
   "metadata": {},
   "source": [
    "- _Why is this approach inefficient?_\n",
    "- Note the ``raise`` keyword\n",
    "- It causes an exception (specifically a ``ValueError``) if the value isn't in the dictionary\n",
    "- The ``raise`` statement also takes an optional argument that is a detailed error message"
   ]
  },
  {
   "cell_type": "markdown",
   "metadata": {},
   "source": [
    "## Dictionaries and lists\n",
    "- Lists can appear as values in a dictionary\n",
    "- For example, people often have the same birthday"
   ]
  },
  {
   "cell_type": "code",
   "execution_count": 7,
   "metadata": {},
   "outputs": [],
   "source": [
    "birthdays['0704'] = [ 'Steve', 'Nick' ]"
   ]
  },
  {
   "cell_type": "markdown",
   "metadata": {},
   "source": [
    "- Sometimes you may want to __invert__ a dictionary\n",
    "- This means that you turn the keys into values and values into keys\n",
    "- However, remember that keys are unique, but values aren't necessarily unique\n",
    "- This means that the original dictionary can have multiple keys with the same value\n",
    "- The inversion process is therefore more complex than simply switching things around."
   ]
  },
  {
   "cell_type": "code",
   "execution_count": 8,
   "metadata": {},
   "outputs": [],
   "source": [
    "def invert_dict( a_dict ):\n",
    "    inverted_dict = dict()\n",
    "    for key in a_dict:\n",
    "        value = a_dict[key]\n",
    "        if value not in inverted_dict:\n",
    "            inverted_dict[value] = [ key ]\n",
    "        else:\n",
    "            inverted_dict[value].append( key )\n",
    "    return inverted_dict"
   ]
  },
  {
   "cell_type": "markdown",
   "metadata": {},
   "source": [
    "- A list can be a value in a dictionary, but it can’t be a key\n",
    "- Keys are required to be hashable\n",
    "- A __hash function__ takes a value and returns an integer\n",
    "- Dictionaries use these to store a look up keys in a very efficient manner\n",
    "- Hash functions operate on all types of values, not just numbers\n",
    "- This approach works great if the keys are immutable, but breaks if they are mutable (like a list)"
   ]
  },
  {
   "cell_type": "markdown",
   "metadata": {},
   "source": [
    "## Global variables\n",
    "- _Disclaimer: Global variables usually bad and are generally frowned upon_\n",
    "- If you don't declare a variable in a function, it belongs to a special frame/function called ``__main__``\n",
    "- These variables are called __global__ and can be accessed from any code\n",
    "- _Why might this be bad?_\n",
    "- The textbook illustrates how this can be a problem on pg. 110-111\n",
    "- If you want to change a global variable in a function, you need to declare the variable as global before you use it\n",
    "- Otherwise, a new variable with the same name is temporarily created while the function is executing\n",
    "- _Don't use global variables_"
   ]
  },
  {
   "cell_type": "markdown",
   "metadata": {},
   "source": [
    "## Debugging\n",
    "- As we saw with the ``words.txt`` exercises, debugging programs that use large amounts of data is difficult\n",
    "- The book presents a few suggestions on how to debug such programs:\n",
    "  - __Scale down the input:__ Reduce the size of the dataset like we did with our sample tests\n",
    "  - __Check summaries and types:__ Debug using aggregate data or datatypes instead of all the data\n",
    "  - __Write self-checks:__ Have your code test things automatically (e.g., sanity or consistency checks)\n",
    "  - __Prety print the output:__ Format the debugging output to make it easier to read"
   ]
  },
  {
   "cell_type": "markdown",
   "metadata": {},
   "source": [
    "## Exercises\n",
    "- Write a function that processes the ``words.txt`` file and computes the relative frequency of each letter in the alphabet.  For example, if the letter ``e`` occurs 100 times and there are a total of 500 letters in the file, the letter ``e`` has a relative frequency of 20\\\\%.\n",
    "- Write a function that processes the ``words.txt`` file and computes the relative frequency of the length of all the words.  You must use a dictionary.\n",
    "- Write a function that prints a dictionary such that the keys are ordered in alphabetical order."
   ]
  }
 ],
 "metadata": {
  "kernelspec": {
   "display_name": "Python 3",
   "language": "python",
   "name": "python3"
  },
  "language_info": {
   "codemirror_mode": {
    "name": "ipython",
    "version": 3
   },
   "file_extension": ".py",
   "mimetype": "text/x-python",
   "name": "python",
   "nbconvert_exporter": "python",
   "pygments_lexer": "ipython3",
   "version": "3.7.3"
  }
 },
 "nbformat": 4,
 "nbformat_minor": 2
}
