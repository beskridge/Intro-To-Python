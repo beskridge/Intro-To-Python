{
 "cells": [
  {
   "cell_type": "markdown",
   "metadata": {},
   "source": [
    "# Chapter 4: Interface Design\n",
    "***\n",
    "__Contents__\n",
    "- [TurtleWorld](#TurtleWorld)\n",
    "- [Simple repetition](#Simple-repetition)\n",
    "- [Encapsulation](#Encapsulation)\n",
    "- [Generalization](#Generalization)\n",
    "- [Interface design](#Interface-design)\n",
    "- [Refactoring](#Refactoring)\n",
    "- [A development plan](#A-development-plan)\n",
    "- [docstring](#docstring)\n",
    "- [Debugging](#Debugging)\n",
    "- [Exercises](#Exercises)\n",
    "***\n",
    "\n",
    "_This notebook is based on \"Think Python, 2Ed\" by Allen B. Downey_ <br>\n",
    "[https://greenteapress.com/wp/think-python-2e/](https://greenteapress.com/wp/think-python-2e/)\n",
    "***"
   ]
  },
  {
   "cell_type": "markdown",
   "metadata": {},
   "source": [
    "## TurtleWorld\n",
    "- __Turtle graphics__ are a simple way of drawing on the screen\n",
    "- Imagine a turtle walking around carrying a pen\n",
    "- He can:\n",
    "  - Pull the pen up\n",
    "  - Push the pen down\n",
    "  - Move forward\n",
    "  - Turn to the left or right\n",
    "- That's it!"
   ]
  },
  {
   "cell_type": "code",
   "execution_count": 1,
   "metadata": {},
   "outputs": [],
   "source": [
    "import turtle\n",
    "\n",
    "# NOTE: Many statements in this notebook are commented out as turtle graphics can have\n",
    "#       in a Jupyter Notebook.  You can use uncommented versions in your Python IDE.\n",
    "\n",
    "#bob = turtle.Turtle()\n",
    "#print( bob )\n",
    "\n",
    "#bob.fd( 100 ) # Move forward 100 pixels\n",
    "#bob.lt( 90 )  # Turn 90 degrees to the left\n",
    "#bob.fd( 100 ) # Move forward 100 pixels"
   ]
  },
  {
   "cell_type": "markdown",
   "metadata": {},
   "source": [
    "## Simple repetition\n",
    "- When designing algorithms, we often need to repeat some action over and over\n",
    "- One way to implement this in Python is the __for loop__"
   ]
  },
  {
   "cell_type": "code",
   "execution_count": 2,
   "metadata": {},
   "outputs": [
    {
     "name": "stdout",
     "output_type": "stream",
     "text": [
      "Hello!\n",
      "Hello!\n",
      "Hello!\n",
      "Hello!\n"
     ]
    }
   ],
   "source": [
    "for i in range(4):\n",
    "    print( 'Hello!' )"
   ]
  },
  {
   "cell_type": "markdown",
   "metadata": {},
   "source": [
    "To practice loops and turtle graphics, complete the following exercises from the textbook:\n",
    "1. Write a function called ``square`` that takes a parameter named t, which is a turtle. It should use the turtle to draw a square.  Write a function call that passes ``bob`` as an argument to square, and then run the program again.\n",
    "1. Add another parameter, named ``length``, to square. Modify the body so length of the sides is length, and then modify the function call to provide a second argument. Run the program again. Test your program with a range of values for length.\n",
    "1. The functions ``lt`` and ``rt`` make 90-degree turns by default, but you can provide a second argument that specifies the number of degrees. For example, ``lt(bob, 45)`` turns ``bob`` 45 degrees to the left.  Make a copy of square and change the name to polygon. Add another parameter named ``n`` and modify the body so it draws an n-sided regular polygon. Hint: The exterior angles of an n-sided regular polygon are 360.0/n degrees.\n",
    "1. Write a function called ``circle`` that takes a turtle, ``t``, and radius, ``r``, as parameters and that draws an approximate circle by invoking polygon with an appropriate length and number of sides. Test your function with a range of values of ``r``.  Hint: figure out the circumference of the circle and make sure that length * n = circumference.  Another hint: if ``bob`` is too slow for you, you can speed him up by changing ``bob.delay``, which is the time between moves, in seconds. ``bob.delay = 0.01`` ought to get him moving.\n",
    "1. Make a more general version of circle called ``arc`` that takes an additional parameter ``angle``, which determines what fraction of a circle to draw. ``angle`` is in units of degrees, so when ``angle=360``, ``arc`` should draw a complete circle.\n",
    "\n",
    "If you would like more of a challenge, try these additional exercises:\n",
    "1. Write a function called ``drawSpiral`` that takes a parameter named ``degrees`` that specifies the amount in degrees to draw a spiral.\n",
    "2. Write a function called ``drawStar`` that takes a parameter named ``length`` that draws a five-sided star with the specified side length.\n",
    "3. Write a function called ``drawCircles`` that takes a parameter named ``count`` that draws the specified number of circles side-by-side."
   ]
  },
  {
   "cell_type": "markdown",
   "metadata": {},
   "source": [
    "## Encapsulation\n",
    "- __Encapsulation__ is hiding how you implement your algorithm in a function\n",
    "- _Why do you think this would be beneficial?_\n",
    "- When we created a ``square()`` function, we encapsulated the process for drawing a square"
   ]
  },
  {
   "cell_type": "code",
   "execution_count": 3,
   "metadata": {},
   "outputs": [],
   "source": [
    "def square( t ):\n",
    "    for i in range( 4 ):\n",
    "        t.fd( 100 )\n",
    "        t.lt( 90 )\n",
    "\n",
    "#square( bob )\n"
   ]
  },
  {
   "cell_type": "markdown",
   "metadata": {},
   "source": [
    "- This allows us to reuse functionality in the future\n",
    "- It also allows us to improve the code in the future (maybe even fix bugs) and all the code that uses the function automatically gets the new and improved code\n",
    "- Encapsulation doesn't work if we aren't able to __abstract__ away the details\n",
    "- In this case, the details are the specific turtle doing the drawing\n",
    "- We could use the same function with a different turtle and it would still work\n",
    "- These are two of the big time terms in programming, and this course course specifically"
   ]
  },
  {
   "cell_type": "markdown",
   "metadata": {},
   "source": [
    "## Generalization\n",
    "- Another way to view abstraction, is to think of it as __generalization__\n",
    "- When we generalize, we get away from the details and think about the bigger concepts\n",
    "- For example, we can generalize the ``square()`` function to use _any_ distance"
   ]
  },
  {
   "cell_type": "code",
   "execution_count": 4,
   "metadata": {},
   "outputs": [],
   "source": [
    "def square( t, length ):\n",
    "    for i in range( 4 ):\n",
    "        t.fd( 100, length )\n",
    "        t.lt( 90 )\n",
    "\n",
    "#square( bob, 100 )"
   ]
  },
  {
   "cell_type": "markdown",
   "metadata": {},
   "source": [
    "- We can now draw a square of any size\n",
    "- We can even generalize it further to draw a polygon with any number of sides"
   ]
  },
  {
   "cell_type": "code",
   "execution_count": 5,
   "metadata": {},
   "outputs": [],
   "source": [
    "def polygon( t, n, length ):\n",
    "    # Calculate the angle to turn for each side\n",
    "    angle = 360.0 / n\n",
    "    # Draw each side\n",
    "    for i in range( n ):\n",
    "        t.fd( length )\n",
    "        t.lt( angle )\n",
    "\n",
    "#polygon( bob, 7, 70 )"
   ]
  },
  {
   "cell_type": "markdown",
   "metadata": {},
   "source": [
    "## Interface design\n",
    "- When we generalize a function, we need to think hard about how a user will call the function\n",
    "- We want to make it \"as simple as possible, but not simpler\"\n",
    "- This part of the function is referred to as its __interface__\n",
    "- It is:\n",
    "  - The name of the function\n",
    "  - What the function is supposed to do\n",
    "  - The function arguments\n",
    "  - The function's return value\n",
    "- We interact with interfaces everyday\n",
    "- Some examples of interfaces are:\n",
    "  - TV remote control\n",
    "  - ATM\n",
    "  - Steering wheel and dashboard in a car\n",
    "- _What are some other real-world examples of interfaces?_"
   ]
  },
  {
   "cell_type": "markdown",
   "metadata": {},
   "source": [
    "## Refactoring\n",
    "- Sometimes you will discover that you can generalize a function even further after you have already written it\n",
    "- When you rearrange a program (or function) to improve functionality, sometimes by improving function interfaces, it is called __refactoring__\n",
    "- This happens _very often_ in software development\n",
    "- Programmers rarely, if ever, get functions and programs right the first time\n",
    "- Often, you learn something about the problem only after you start implementing your solution\n",
    "- _What sort of things can you learn?  Why do you learn them only after you start on the solution?_\n",
    "- Software development is an __iterative__ process\n",
    "- _What does this mean?  Have you experienced this in your programs?_"
   ]
  },
  {
   "cell_type": "markdown",
   "metadata": {},
   "source": [
    "## A development plan\n",
    "- There are a variety of processes used to develop software\n",
    "- One of the simplest process for novice programmers is __encapsulation and generalization__\n",
    "- It assumes that you have already decomposed the problem into subproblems\n",
    "- The following are the steps in the process:\n",
    "  1. Design an algorithm for a small subproblem with no abstraction\n",
    "  1. Encapsulate and generalize the algorithm\n",
    "  1. Repeat the previous two steps for additional subproblems\n",
    "  1. Combine subproblem solutions where appropriate into more general algorithms\n",
    "- This is referred to as a __bottom-up__ approach\n",
    "- Another process goes the other way:\n",
    "  1. Design a high-level algorithm for the overall problem\n",
    "  1. Identify subproblems using abstract portions of the algorithm\n",
    "  1. Expand the abstract portions of the algorithm into more specific algorithms\n",
    "  1. Repeat the previous two steps until an algorithm is as specific and simple as possible\n",
    "- This is referred to as a __top-down__ approach\n",
    "- Neither are perfect and both have problems, _but_\n",
    "- They are useful approaches for now"
   ]
  },
  {
   "cell_type": "markdown",
   "metadata": {},
   "source": [
    "## docstring\n",
    "- A __docstring__ is a special type of comment at the beginning of a function that explains the interface"
   ]
  },
  {
   "cell_type": "code",
   "execution_count": 6,
   "metadata": {},
   "outputs": [],
   "source": [
    "def polyline( t, length, n, angle ):\n",
    "    \"\"\"Draw n line segments with the given length and\n",
    "    angle (in degreees) between them.  t is a turtle.\n",
    "    \"\"\"\n",
    "    for i in range( n ):\n",
    "        t.fd( length )\n",
    "        t.lt( angle )"
   ]
  },
  {
   "cell_type": "markdown",
   "metadata": {},
   "source": [
    "- A user can access it in the cosole using the ``help`` function"
   ]
  },
  {
   "cell_type": "code",
   "execution_count": 7,
   "metadata": {},
   "outputs": [
    {
     "name": "stdout",
     "output_type": "stream",
     "text": [
      "Help on function polyline in module __main__:\n",
      "\n",
      "polyline(t, length, n, angle)\n",
      "    Draw n line segments with the given length and\n",
      "    angle (in degreees) between them.  t is a turtle.\n",
      "\n"
     ]
    }
   ],
   "source": [
    "help( polyline )"
   ]
  },
  {
   "cell_type": "markdown",
   "metadata": {},
   "source": [
    "- It explains the essential information needed by users in a concise manner"
   ]
  },
  {
   "cell_type": "markdown",
   "metadata": {},
   "source": [
    "## Debugging\n",
    "- An __interface__ is like a contract between a function and code that calls the function\n",
    "- It does not specify _how_ that contract is implemented, just that it is\n",
    "- The contract specifies what the function will do for the caller\n",
    "- The required state values (i.e., variables) of the system before a function starts executing are called the __preconditions__\n",
    "- The state values of the system _after_ a function executes are called the __postconditions__\n",
    "- Meeting preconditions are the responsibility of the code calling the function\n",
    "- If the preconditions are met, it is the responsibility of the function to do what it says it will and meet the postconditions\n",
    "- If the preconditions aren't met, there is no guarantee that the postconditions will be true\n",
    "- Understanding preconditions and postconditions can help you write better code and find any errors you may encounter"
   ]
  },
  {
   "cell_type": "markdown",
   "metadata": {},
   "source": [
    "## Exercises\n",
    "- Write a function called ``draw_square`` that takes a parameter ``t``, which is a turtle, and then uses the turtle to draw a square.\n"
   ]
  },
  {
   "cell_type": "code",
   "execution_count": 8,
   "metadata": {},
   "outputs": [],
   "source": [
    "def draw_square( t ):\n",
    "    # INSERT YOUR CODE HERE\n",
    "    print( 'Remove this line' ) # Jupyter needs a statement to compile"
   ]
  },
  {
   "cell_type": "markdown",
   "metadata": {},
   "source": [
    "- Write a function called ``draw_variable_square`` that takes a parameter ``t``, which is a turtle, and a parameter ``length``, which is the length of a side.  The function should use the turtle to draw a square with sides of the specified length."
   ]
  },
  {
   "cell_type": "code",
   "execution_count": 9,
   "metadata": {},
   "outputs": [],
   "source": [
    "def draw_variable_square( t, length ):\n",
    "    # INSERT YOUR CODE HERE\n",
    "    print( 'Remove this line' ) # Jupyter needs a statement to compile"
   ]
  },
  {
   "cell_type": "markdown",
   "metadata": {},
   "source": [
    "- Write a function called ``draw_polygon`` that takes a parameter ``t``, which is a turtle, a parameter ``n``, which is the number of sides, and a parameter ``length``, which is the length of a side.  The function should draw a polygon with the specified number of sides of the specified length."
   ]
  },
  {
   "cell_type": "code",
   "execution_count": 10,
   "metadata": {},
   "outputs": [],
   "source": [
    "def draw_polygon( t, n, length ):\n",
    "    # INSERT YOUR CODE HERE\n",
    "    print( 'Remove this line' ) # Jupyter needs a statement to compile"
   ]
  },
  {
   "cell_type": "markdown",
   "metadata": {},
   "source": [
    "- Write a function called ``draw_circle`` that takes a parameter ``t``, which is a turtle, and a parameter ``r``, which is a radius.  The function should draw a circle with the specified radius."
   ]
  },
  {
   "cell_type": "code",
   "execution_count": 11,
   "metadata": {},
   "outputs": [],
   "source": [
    "def draw_circle( t, r ):\n",
    "    # INSERT YOUR CODE HERE\n",
    "    print( 'Remove this line' ) # Jupyter needs a statement to compile"
   ]
  }
 ],
 "metadata": {
  "kernelspec": {
   "display_name": "Python 3",
   "language": "python",
   "name": "python3"
  },
  "language_info": {
   "codemirror_mode": {
    "name": "ipython",
    "version": 3
   },
   "file_extension": ".py",
   "mimetype": "text/x-python",
   "name": "python",
   "nbconvert_exporter": "python",
   "pygments_lexer": "ipython3",
   "version": "3.7.3"
  }
 },
 "nbformat": 4,
 "nbformat_minor": 2
}
