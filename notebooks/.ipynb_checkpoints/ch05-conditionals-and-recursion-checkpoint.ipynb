{
 "cells": [
  {
   "cell_type": "markdown",
   "metadata": {},
   "source": [
    "# Chapter 5: Conditionals and recursion\n",
    "***\n",
    "__Contents__\n",
    "- [Modulus operator](#Modulus-operator)\n",
    "- [Boolean expressions](#Boolean-expressions)\n",
    "- [Logical operators](#Logical-operators)\n",
    "- [Conditional execution](#Conditional-execution)\n",
    "- [Alternative execution](#Alternative-execution)\n",
    "- [Chained conditionals](#Chained-conditionals)\n",
    "- [Nested conditionals](#Nested-conditionals)\n",
    "- [Recursion](#Recursion)\n",
    "- [Infinite recursion](#Infinite-recursion)\n",
    "- [Keyboard input](#Keyboard-input)\n",
    "- [Debugging](#Debugging)\n",
    "- [Exercises](#Exercises)\n",
    "***\n",
    "\n",
    "_This notebook is based on \"Think Python, 2Ed\" by Allen B. Downey_ <br>\n",
    "[https://greenteapress.com/wp/think-python-2e/](https://greenteapress.com/wp/think-python-2e/)\n",
    "***"
   ]
  },
  {
   "cell_type": "markdown",
   "metadata": {},
   "source": [
    "## Modulus operator\n",
    "- The __modulus__ operator is used with integers\n",
    "- It returns the remainder of a division operation\n",
    "- You will find that you use it more than you think you will"
   ]
  },
  {
   "cell_type": "code",
   "execution_count": 1,
   "metadata": {},
   "outputs": [
    {
     "data": {
      "text/plain": [
       "2"
      ]
     },
     "execution_count": 1,
     "metadata": {},
     "output_type": "execute_result"
    }
   ],
   "source": [
    "7 // 3 # Floor division results in the quotient"
   ]
  },
  {
   "cell_type": "code",
   "execution_count": 2,
   "metadata": {},
   "outputs": [
    {
     "data": {
      "text/plain": [
       "1"
      ]
     },
     "execution_count": 2,
     "metadata": {},
     "output_type": "execute_result"
    }
   ],
   "source": [
    "7 % 3 # Modulus returns the remainder"
   ]
  },
  {
   "cell_type": "markdown",
   "metadata": {},
   "source": [
    "## Boolean expressions\n",
    "- A __boolean__ (or ``bool`` in Python) is a ``True`` or ``False`` value\n",
    "- A __boolean expression__ is an expression that results in either a ``True`` or ``False``\n",
    "- We have already seen a simple operator that produces a boolean: ``==``"
   ]
  },
  {
   "cell_type": "code",
   "execution_count": 3,
   "metadata": {},
   "outputs": [
    {
     "data": {
      "text/plain": [
       "True"
      ]
     },
     "execution_count": 3,
     "metadata": {},
     "output_type": "execute_result"
    }
   ],
   "source": [
    "5 == 5"
   ]
  },
  {
   "cell_type": "code",
   "execution_count": 4,
   "metadata": {},
   "outputs": [
    {
     "data": {
      "text/plain": [
       "False"
      ]
     },
     "execution_count": 4,
     "metadata": {},
     "output_type": "execute_result"
    }
   ],
   "source": [
    "5 == 4"
   ]
  },
  {
   "cell_type": "markdown",
   "metadata": {},
   "source": [
    "- ``True`` and ``False`` are not strings, nor are the equivalent to strings\n",
    "- They belong to the ``bool`` datatype\n",
    "- There are other __relational__ operators besides ``==``:\n",
    "  - ``!=`` Not equal\n",
    "  - ``>`` Greater than\n",
    "  - ``<`` Less than\n",
    "  - ``>=`` Greater than or equal to\n",
    "  - ``<=`` Less than or equal to\n",
    "- Remember that ``=`` is an assignment operator and ``==`` is a relational operator that tests equality"
   ]
  },
  {
   "cell_type": "markdown",
   "metadata": {},
   "source": [
    "## Logical operators\n",
    "- There are 3 __logical__ operators:\n",
    "  - ``and``\n",
    "  - ``or``\n",
    "  - ``not``\n",
    "- They mean the same thing in Python that they do in English"
   ]
  },
  {
   "cell_type": "code",
   "execution_count": 5,
   "metadata": {},
   "outputs": [
    {
     "data": {
      "text/plain": [
       "True"
      ]
     },
     "execution_count": 5,
     "metadata": {},
     "output_type": "execute_result"
    }
   ],
   "source": [
    "True and True"
   ]
  },
  {
   "cell_type": "code",
   "execution_count": 6,
   "metadata": {},
   "outputs": [
    {
     "data": {
      "text/plain": [
       "False"
      ]
     },
     "execution_count": 6,
     "metadata": {},
     "output_type": "execute_result"
    }
   ],
   "source": [
    "True and False"
   ]
  },
  {
   "cell_type": "code",
   "execution_count": 7,
   "metadata": {},
   "outputs": [
    {
     "data": {
      "text/plain": [
       "True"
      ]
     },
     "execution_count": 7,
     "metadata": {},
     "output_type": "execute_result"
    }
   ],
   "source": [
    "True or True"
   ]
  },
  {
   "cell_type": "code",
   "execution_count": 8,
   "metadata": {},
   "outputs": [
    {
     "data": {
      "text/plain": [
       "True"
      ]
     },
     "execution_count": 8,
     "metadata": {},
     "output_type": "execute_result"
    }
   ],
   "source": [
    "True or False"
   ]
  },
  {
   "cell_type": "code",
   "execution_count": 9,
   "metadata": {},
   "outputs": [
    {
     "data": {
      "text/plain": [
       "False"
      ]
     },
     "execution_count": 9,
     "metadata": {},
     "output_type": "execute_result"
    }
   ],
   "source": [
    "False or False"
   ]
  },
  {
   "cell_type": "markdown",
   "metadata": {},
   "source": [
    "- When combining multiple expresssions, don't be afraid to use parenthesis\n",
    "- They help make the code more readable and ensure it works as intended"
   ]
  },
  {
   "cell_type": "code",
   "execution_count": 10,
   "metadata": {},
   "outputs": [
    {
     "data": {
      "text/plain": [
       "True"
      ]
     },
     "execution_count": 10,
     "metadata": {},
     "output_type": "execute_result"
    }
   ],
   "source": [
    "True and (True or False)"
   ]
  },
  {
   "cell_type": "markdown",
   "metadata": {},
   "source": [
    "- All operands in a boolean expression should be boolean expressions or boolean variables/values\n",
    "- However, Python can bend the rules\n",
    "- For example, nonzero numbers are considered ``True``\n",
    "- But try to avoid this behavior"
   ]
  },
  {
   "cell_type": "markdown",
   "metadata": {},
   "source": [
    "## Conditional execution\n",
    "- When writing programs, we often need the ability to change the behavior of a program depending on the situation\n",
    "- __Conditional statements__ give us this ability\n",
    "- The simplest version is the ``if`` statement"
   ]
  },
  {
   "cell_type": "code",
   "execution_count": 11,
   "metadata": {},
   "outputs": [
    {
     "name": "stdout",
     "output_type": "stream",
     "text": [
      "x is positive\n"
     ]
    }
   ],
   "source": [
    "x = 1\n",
    "if( x > 0 ):\n",
    "    print( 'x is positive' )"
   ]
  },
  {
   "cell_type": "markdown",
   "metadata": {},
   "source": [
    "- The boolean expression after the ``if`` is called the __condition__\n",
    "- If it is ``True``, then the indented portion is executed\n",
    "- It has a similar form as a function definition or a loop\n",
    "- These are often called __compound statements__"
   ]
  },
  {
   "cell_type": "markdown",
   "metadata": {},
   "source": [
    "## Alternative execution\n",
    "- Another form of the ``if`` statement is __alternative execution__\n",
    "- If there are two possibilities, you can add an ``else`` statement"
   ]
  },
  {
   "cell_type": "code",
   "execution_count": 12,
   "metadata": {},
   "outputs": [
    {
     "name": "stdout",
     "output_type": "stream",
     "text": [
      "x is odd\n"
     ]
    }
   ],
   "source": [
    "if( 0 == x % 2 ):\n",
    "    print( 'x is even' )\n",
    "else:\n",
    "    print( 'x is odd' )"
   ]
  },
  {
   "cell_type": "markdown",
   "metadata": {},
   "source": [
    "- The possible paths the code can follow are referred to as __branches__"
   ]
  },
  {
   "cell_type": "markdown",
   "metadata": {},
   "source": [
    "## Chained conditionals\n",
    "- If you have more than two possibilities, you can build a __chained conditional__\n",
    "- This is done by adding one or more ``elif`` statements"
   ]
  },
  {
   "cell_type": "code",
   "execution_count": 13,
   "metadata": {},
   "outputs": [
    {
     "name": "stdout",
     "output_type": "stream",
     "text": [
      "x is greater than y\n"
     ]
    }
   ],
   "source": [
    "y = 0\n",
    "if( x < y ):\n",
    "    print( 'x is less than y' )\n",
    "elif( x > y ):\n",
    "    print( 'x is greater than y' )\n",
    "else:\n",
    "    print( 'x and y are equal' )"
   ]
  },
  {
   "cell_type": "markdown",
   "metadata": {},
   "source": [
    "- ``elif`` is an abbreviation for \"else if\"\n",
    "- Using chained conditionals, only one branch will be taken\n",
    "- Each condition is checked in order from first to last\n",
    "- When a condition is met, the branch is executed and the remainder are ignored, even if others would be true as well\n",
    "- There isn't a limit on the number of ``elif`` statements, butdon't go overboard\n",
    "- An ``else`` statement isn't required so don't use one if it doesn't make sense"
   ]
  },
  {
   "cell_type": "code",
   "execution_count": 14,
   "metadata": {},
   "outputs": [],
   "source": [
    "# TODO - calculate a tax rate, tip or GPA example"
   ]
  },
  {
   "cell_type": "markdown",
   "metadata": {},
   "source": [
    "## Nested conditionals\n",
    "- One conditional can be __nested__ within another"
   ]
  },
  {
   "cell_type": "code",
   "execution_count": 15,
   "metadata": {},
   "outputs": [
    {
     "name": "stdout",
     "output_type": "stream",
     "text": [
      "x is greater than y\n"
     ]
    }
   ],
   "source": [
    "if( x == y ):\n",
    "    print( 'x and y are equal' )\n",
    "else:\n",
    "    if( x < y ):\n",
    "        print( 'x is less than y' )\n",
    "    else:\n",
    "        print( 'x is greater than y' )"
   ]
  },
  {
   "cell_type": "markdown",
   "metadata": {},
   "source": [
    "- The outer conditional contains two (2) branches\n",
    "- The second branch contains another conditional with two (2) branches of its own\n",
    "- Note the indentation of the statements\n",
    "- __Nested conditionals__ can be difficult to read quickly\n",
    "- Avoid them when possible\n",
    "- Note that you can use logical operators to simplify conditionals"
   ]
  },
  {
   "cell_type": "code",
   "execution_count": 16,
   "metadata": {},
   "outputs": [
    {
     "name": "stdout",
     "output_type": "stream",
     "text": [
      "x is a positive single-digit number\n"
     ]
    }
   ],
   "source": [
    "# Using nested conditionals\n",
    "if( 0 < x ):\n",
    "    if( x < 10 ):\n",
    "        print( 'x is a positive single-digit number' )"
   ]
  },
  {
   "cell_type": "code",
   "execution_count": 17,
   "metadata": {},
   "outputs": [],
   "source": [
    "# Using logical operators - this is easier to read\n",
    "if( (0 < x) and (x > 10) ):\n",
    "    print( 'x is a positive single-digit number' )"
   ]
  },
  {
   "cell_type": "markdown",
   "metadata": {},
   "source": [
    "## Recursion\n",
    "- We have seen how one function can call another\n",
    "- It is also legal for a function to call itself\n",
    "- Such functions are called __recursive__ and use a process called __recursion__"
   ]
  },
  {
   "cell_type": "code",
   "execution_count": 18,
   "metadata": {},
   "outputs": [
    {
     "name": "stdout",
     "output_type": "stream",
     "text": [
      "5\n",
      "4\n",
      "3\n",
      "2\n",
      "1\n",
      "Blastoff!\n"
     ]
    }
   ],
   "source": [
    "def countdown( n ):\n",
    "    if( n <= 0 ):\n",
    "        print( 'Blastoff!' )\n",
    "    else:\n",
    "        print( n )\n",
    "        # Recursive call\n",
    "        countdown( n - 1 )\n",
    "\n",
    "countdown( 5 )"
   ]
  },
  {
   "cell_type": "markdown",
   "metadata": {},
   "source": [
    "- This problem-solving approach is called __divide and conquer__\n",
    "- It breaks a problem in to smaller chunks that are easier to solve\n",
    "- In this case, the smaller problem is identical in nature to the previous one, just smaller\n",
    "- The function calls itself until ``n <= 0``\n",
    "- This is called the __base case__\n",
    "- Recursive functions need at least one base case to function properly, but you can have more\n",
    "- You can always convert a recursive function into an __iterative__ function that uses a loop\n",
    "- You can also do the reverse and go from an iterative function to a recursive function\n",
    "- For some problems it is easier to write a recursive function than an iterative one"
   ]
  },
  {
   "cell_type": "markdown",
   "metadata": {},
   "source": [
    "## Infinite recursion\n",
    "- If you forget a base case or have an error in your program so that you never reach a base case, the program will never stop running\n",
    "- The recursive function keeps calling itself, but the problem is never smaller\n",
    "- This is called __infinite recursion__ and is generally considered _bad_\n",
    "- Due to the way programs work inside a computer, they don't really run forever\n",
    "- You usually get a runtime error like a stack overflow or max recursion depth exceeded\n",
    "- The exact error depends on the programming language\n",
    "- Take care to write your base case conditions carefully to avoid these situations\n",
    "- Consider the ``countdown`` function from above"
   ]
  },
  {
   "cell_type": "code",
   "execution_count": 19,
   "metadata": {},
   "outputs": [],
   "source": [
    "def countdown_unsafe( n ):\n",
    "    if( n == 0 ):\n",
    "        print( 'Blastoff!' )\n",
    "    else:\n",
    "        print( n )\n",
    "        # Recursive call\n",
    "        countdown( n - 1 )"
   ]
  },
  {
   "cell_type": "markdown",
   "metadata": {},
   "source": [
    "- It has been modified so that the conditional is an equality test\n",
    "- What would happen if a non-integer number was passed to the function?"
   ]
  },
  {
   "cell_type": "code",
   "execution_count": 20,
   "metadata": {},
   "outputs": [],
   "source": [
    "# Uncomment this to see what will happen\n",
    "# countdown_unsafe( 3.5 )"
   ]
  },
  {
   "cell_type": "markdown",
   "metadata": {},
   "source": [
    "- Using ``<=`` acts as a failsafe if an incorrect value is passed to the function\n",
    "- Always assume the worst can happen and write your code accordingly\n",
    "- Think of it as __defensive programming__ (just like _defensive driving_)"
   ]
  },
  {
   "cell_type": "markdown",
   "metadata": {},
   "source": [
    "## Keyboard input\n",
    "- Up to this point we have primarily relied upon hard-coded input for functions\n",
    "- Python provides the input function that gets input from the keyboard\n",
    "- It returns the user's input as a string value\n",
    "- You can pass a prompt as an argument to the function\n",
    "- If you want the user's input to start below the prompt add a ``\\n`` newline character\n",
    "- If you need the user's input as something other than a string, convert it\n",
    "- Work some examples\n",
    "- You can even use the ``eval`` function to evaluate it as if it where a Python expression"
   ]
  },
  {
   "cell_type": "markdown",
   "metadata": {},
   "source": [
    "## Debugging\n",
    "- Note that when Python indicates that an error was discovered on a particular line, that is only where the problem was detected\n",
    "- It does not mean that is the line where the problem actually occurs\n",
    "- You may have to look at previous lines of code to find the actual error"
   ]
  },
  {
   "cell_type": "markdown",
   "metadata": {},
   "source": [
    "## Exercises\n",
    "- You are given the number of hours in a semester broken down by grade.  For example, of Bob's total 16 hours, he got an A in 6 hours (2 classes), a B in 7 hours (2 classes and a lab), and a C in 3 hours (1 class).  Write a function ``calculate_gpa`` that takes the number of hours for each letter grade A through F and computes the GPA.  Test your function with at least three different sets of letter grade hours."
   ]
  },
  {
   "cell_type": "code",
   "execution_count": 21,
   "metadata": {},
   "outputs": [],
   "source": [
    "def calculate_gpa( a_hours, b_hours, c_hours, d_hours, f_hours ):\n",
    "    # INSERT YOUR CODE HERE\n",
    "    return 0"
   ]
  },
  {
   "cell_type": "markdown",
   "metadata": {},
   "source": [
    "- Write a function called ``calculate_fibonacci`` that takes a parameter ``n``, denoting the $n$-th fibonacci number, and returns the fibonacci number."
   ]
  },
  {
   "cell_type": "code",
   "execution_count": 22,
   "metadata": {},
   "outputs": [],
   "source": [
    "def calculate_fibonacci( n ):\n",
    "    # INSERT YOUR CODE HERE\n",
    "    return 0"
   ]
  }
 ],
 "metadata": {
  "kernelspec": {
   "display_name": "Python 3",
   "language": "python",
   "name": "python3"
  },
  "language_info": {
   "codemirror_mode": {
    "name": "ipython",
    "version": 3
   },
   "file_extension": ".py",
   "mimetype": "text/x-python",
   "name": "python",
   "nbconvert_exporter": "python",
   "pygments_lexer": "ipython3",
   "version": "3.7.3"
  }
 },
 "nbformat": 4,
 "nbformat_minor": 2
}
