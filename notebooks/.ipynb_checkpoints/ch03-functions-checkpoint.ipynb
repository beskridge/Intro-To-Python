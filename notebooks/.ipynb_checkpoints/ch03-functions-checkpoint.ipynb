{
 "cells": [
  {
   "cell_type": "markdown",
   "metadata": {},
   "source": [
    "# Chapter 3: Functions\n",
    "***\n",
    "__Contents__\n",
    "- [Function calls](#Function-calls)\n",
    "- [Type conversion functions](#Type-conversion-functions)\n",
    "- [Math functions](#Math-functions)\n",
    "- [Composition](#Composition)\n",
    "- [Adding new functions](#Adding-new-functions)\n",
    "- [Definitions and uses](#Definitions-and-uses)\n",
    "- [Flow of execution](#Flow-of-execution)\n",
    "- [Parameters and arguments](#Parameters-and-arguments)\n",
    "- [Variables and parameters are local](#Variables-and-parameters-are-local)\n",
    "- [Stack diagrams](#Stack-diagrams)\n",
    "- [Fruitful functions and void functions](#Fruitful-functions-and-void-functions)\n",
    "- [Why functions](#Why-functions)\n",
    "- [Debugging](#Debugging)\n",
    "- [Exercises](#Exercises)\n",
    "***\n",
    "\n",
    "_This notebook is based on \"Think Python, 2Ed\" by Allen B. Downey_ <br>\n",
    "[https://greenteapress.com/wp/think-python-2e/](https://greenteapress.com/wp/think-python-2e/)\n",
    "***"
   ]
  },
  {
   "cell_type": "markdown",
   "metadata": {},
   "source": [
    "## Function calls\n",
    "- A __function__ is a named sequence of statements that performs a computation\n",
    "- To use a function, write a statement including a __function call__"
   ]
  },
  {
   "cell_type": "code",
   "execution_count": 1,
   "metadata": {},
   "outputs": [
    {
     "data": {
      "text/plain": [
       "int"
      ]
     },
     "execution_count": 1,
     "metadata": {},
     "output_type": "execute_result"
    }
   ],
   "source": [
    "type( 32 )"
   ]
  },
  {
   "cell_type": "markdown",
   "metadata": {},
   "source": [
    "- The name of this function is `type`\n",
    "- It is built in to the Python language\n",
    "- The expression in the parenthesis is called the function's __argument__\n",
    "- The function returns the __datatype__ of the argument, in this case an `int`, which is short for integer"
   ]
  },
  {
   "cell_type": "markdown",
   "metadata": {},
   "source": [
    "## Type conversion functions\n",
    "- Datatypes are very important in programming languages\n",
    "- A value's type dictates how it can be used\n",
    "- Python has functions that convert a value from one datatype to another\n",
    "- The two basic numeric datatypes are:\n",
    "    - `int` For integer data\n",
    "    - `float` For data with fractional parts expressed with a decimal point"
   ]
  },
  {
   "cell_type": "code",
   "execution_count": 2,
   "metadata": {},
   "outputs": [
    {
     "data": {
      "text/plain": [
       "42.0"
      ]
     },
     "execution_count": 2,
     "metadata": {},
     "output_type": "execute_result"
    }
   ],
   "source": [
    "# Convert an int to a float\n",
    "float( 42 )"
   ]
  },
  {
   "cell_type": "code",
   "execution_count": 3,
   "metadata": {},
   "outputs": [
    {
     "data": {
      "text/plain": [
       "3"
      ]
     },
     "execution_count": 3,
     "metadata": {},
     "output_type": "execute_result"
    }
   ],
   "source": [
    "# Convert a float to an int\n",
    "int( 3.14159 )"
   ]
  },
  {
   "cell_type": "markdown",
   "metadata": {},
   "source": [
    "- Note that converting from a `float` to an `int` can result in the loss of data\n",
    "- Numeric data is __atomic__\n",
    "- This means you can't split it up into different parts\n",
    "- However, `string` data is different"
   ]
  },
  {
   "cell_type": "code",
   "execution_count": 4,
   "metadata": {},
   "outputs": [
    {
     "data": {
      "text/plain": [
       "'42'"
      ]
     },
     "execution_count": 4,
     "metadata": {},
     "output_type": "execute_result"
    }
   ],
   "source": [
    "# Convert an int to a string\n",
    "str( 42 )"
   ]
  },
  {
   "cell_type": "code",
   "execution_count": 5,
   "metadata": {},
   "outputs": [
    {
     "data": {
      "text/plain": [
       "'3.14159'"
      ]
     },
     "execution_count": 5,
     "metadata": {},
     "output_type": "execute_result"
    }
   ],
   "source": [
    "# Convert a float to a string\n",
    "str( 3.14159 )"
   ]
  },
  {
   "cell_type": "markdown",
   "metadata": {},
   "source": [
    "- In these examples, numeric data has been converted to strings\n",
    "- The string `'42'` consists of two characters: `4` and `2`\n",
    "- We read these characters as representing numbers, but the computer sees them as different\n",
    "- Note that the strings are indicated using single quotes `''`\n",
    "- To use a `string` in a mathematical expression, it must be converted to a numeric datatype\n",
    "- If you don't, Python will halt execution and generate an error"
   ]
  },
  {
   "cell_type": "code",
   "execution_count": 6,
   "metadata": {},
   "outputs": [
    {
     "data": {
      "text/plain": [
       "42"
      ]
     },
     "execution_count": 6,
     "metadata": {},
     "output_type": "execute_result"
    }
   ],
   "source": [
    "int( '42' )"
   ]
  },
  {
   "cell_type": "markdown",
   "metadata": {},
   "source": [
    "## Math functions\n",
    "- Beyond builtin functions, Python has a number of __modules__ that provide additional functionality\n",
    "- Think of modules like a library of related functions and variables\n",
    "- Most of the important math functions can be found in the `math` module\n",
    "- Before you can use it, you need to `import` it into your code"
   ]
  },
  {
   "cell_type": "code",
   "execution_count": 7,
   "metadata": {},
   "outputs": [],
   "source": [
    "import math"
   ]
  },
  {
   "cell_type": "markdown",
   "metadata": {},
   "source": [
    "- To access a function or variable defined in the module, you need to specify the name of the module and function using __dot notation__\n",
    "- Think of this as using an area code to dial a phone number\n",
    "- There could be multiple functions with the same name, but the module name tells Python where to find the one you want"
   ]
  },
  {
   "cell_type": "code",
   "execution_count": 8,
   "metadata": {},
   "outputs": [],
   "source": [
    "radians = math.pi / 2\n",
    "height = math.sin( radians )"
   ]
  },
  {
   "cell_type": "markdown",
   "metadata": {},
   "source": [
    "- You can find all the functions and variables in the module in the Python documentation <https://docs.python.org/3/library/math.html>\n",
    "- As an example, let's write code to calculate the circumference of a circle <br />\n",
    "$c = 2 r \\pi$"
   ]
  },
  {
   "cell_type": "code",
   "execution_count": 9,
   "metadata": {},
   "outputs": [
    {
     "name": "stdout",
     "output_type": "stream",
     "text": [
      "18.84955592153876\n"
     ]
    }
   ],
   "source": [
    "# Define the radius\n",
    "radius = 3\n",
    "# Calculate the circumference\n",
    "circumference = 2 * radius * math.pi\n",
    "print( circumference )"
   ]
  },
  {
   "cell_type": "markdown",
   "metadata": {},
   "source": [
    "## Composition\n",
    "- Building solutions to large problems using solutions to small problems as a building block is a fundamental skill in thinking like a computer science\n",
    "- The process of combining building blocks is called __composition__\n",
    "- Almost anywhere you can put a _value_ in Python, you can put an _expression_\n",
    "- The exception is that only a variable can go on the left of an assignment statement"
   ]
  },
  {
   "cell_type": "markdown",
   "metadata": {},
   "source": [
    "## Adding new functions\n",
    "- You can create your own functions using a __function definition__"
   ]
  },
  {
   "cell_type": "code",
   "execution_count": 10,
   "metadata": {},
   "outputs": [],
   "source": [
    "def print_star_wars_greeting():\n",
    "    print( 'May the force be with you' )\n",
    "    print( 'And also with you' )"
   ]
  },
  {
   "cell_type": "markdown",
   "metadata": {},
   "source": [
    "- `def` is a keyword that tells Python you are defininig a function\n",
    "- The name of the function immediately follows `def`\n",
    "- The naming rules for functions are the same as for variables\n",
    "- A verb is usually in a function name since it _does_ something\n",
    "- For the moment, leave the parentheses empty\n",
    "- We will add __parameters__ later\n",
    "- The __header__ is the first line of the definition\n",
    "- The __body__ is the rest of the function and is indicated by the `:`\n",
    "- Python uses the indentation to know where the body of the function starts and stops\n",
    "- The indentation is 4 spaces, not a `TAB`\n",
    "- Defining functions actually creates a variable with the name of the function and a value referred to as a __function object__\n",
    "- The function isn't executed until you call it in a __function call_"
   ]
  },
  {
   "cell_type": "code",
   "execution_count": 11,
   "metadata": {},
   "outputs": [
    {
     "name": "stdout",
     "output_type": "stream",
     "text": [
      "May the force be with you\n",
      "And also with you\n"
     ]
    }
   ],
   "source": [
    "print_star_wars_greeting()"
   ]
  },
  {
   "cell_type": "markdown",
   "metadata": {},
   "source": [
    "- Once you define a function, you can use it in later functions"
   ]
  },
  {
   "cell_type": "code",
   "execution_count": 12,
   "metadata": {},
   "outputs": [
    {
     "name": "stdout",
     "output_type": "stream",
     "text": [
      "We will\n",
      "We will\n",
      "Rock you\n"
     ]
    }
   ],
   "source": [
    "def print_we_will():\n",
    "    print( 'We will' )\n",
    "\n",
    "def print_lyrics():\n",
    "    print_we_will()\n",
    "    print_we_will()\n",
    "    print( 'Rock you' )\n",
    "\n",
    "print_lyrics()"
   ]
  },
  {
   "cell_type": "markdown",
   "metadata": {},
   "source": [
    "## Definitions and uses\n",
    "- Function definitions are executed like other statements, but they just create function objects\n",
    "- These store the statements in the body so they can be executed when the function is called\n",
    "- What happens if we try to call a function before it is defined?\n",
    "  - Look back at the previous example\n",
    "  - Move `print_lyrics()` to the top\n",
    "  - Now, move `print_we_will()` in between the other two functions\n",
    "- What is it about Python that might cause this behavior?\n",
    "- You have to create a function before you can execute it"
   ]
  },
  {
   "cell_type": "markdown",
   "metadata": {},
   "source": [
    "## Flow of execution\n",
    "- The order in which statements are executed is called __flow of execution__\n",
    "- Execution starts at the top\n",
    "- Statements are executed one at a time\n",
    "- Think of a function as a detour to another part of code\n",
    "- When it is done, it comes right back to where it left\n",
    "- Don’t forget that functions can call other functions though"
   ]
  },
  {
   "cell_type": "markdown",
   "metadata": {},
   "source": [
    "## Parameters and arguments\n",
    "- Sometimes functions need additional information in order to execute properly\n",
    "- We have seen builtin functions using __arguments__\n",
    "- A good example was `math.sin( radians )`\n",
    "- You can do it with user-defined functions as well\n",
    "- Inside the function, arguments are referred to as __parameters__"
   ]
  },
  {
   "cell_type": "code",
   "execution_count": 13,
   "metadata": {},
   "outputs": [
    {
     "name": "stdout",
     "output_type": "stream",
     "text": [
      "Hello Boba Fett\n",
      "How are you doing?\n",
      "Hello Vincent\n",
      "How are you doing?\n"
     ]
    }
   ],
   "source": [
    "def greet( name ):\n",
    "    print( 'Hello', name )\n",
    "    print( 'How are you doing?' )\n",
    "greet( 'Boba Fett' )\n",
    "robot = 'Vincent'\n",
    "greet( robot )"
   ]
  },
  {
   "cell_type": "markdown",
   "metadata": {},
   "source": [
    "- In this example, `name` is the function's parameter\n",
    "- When the function is called the value of the parameter is set to the value of the argument\n",
    "- The name of the argument variable has nothing to do with the name of the parameter\n",
    "- In fact, you can call the function using an expression"
   ]
  },
  {
   "cell_type": "code",
   "execution_count": 14,
   "metadata": {},
   "outputs": [
    {
     "name": "stdout",
     "output_type": "stream",
     "text": [
      "Hello Yo Yo Ma\n",
      "How are you doing?\n"
     ]
    }
   ],
   "source": [
    "greet( 2 * 'Yo ' + 'Ma' )"
   ]
  },
  {
   "cell_type": "markdown",
   "metadata": {},
   "source": [
    "## Variables and parameters are local\n",
    "- Variables created in a function are __local__ to that function\n",
    "- This means that they only exist while that function is executing\n",
    "- They can't be accessed from outside the function and when the function ends, they are thrown away\n",
    "- For example, if we try to use the variable `z` outside of the function, Python will fail to compile the code and generate an error"
   ]
  },
  {
   "cell_type": "code",
   "execution_count": 15,
   "metadata": {},
   "outputs": [
    {
     "name": "stdout",
     "output_type": "stream",
     "text": [
      "z=[12]\n"
     ]
    }
   ],
   "source": [
    "def do_something( x, y ):\n",
    "    z = x * y\n",
    "    print( 'z=[' + str(z) + ']' )\n",
    "\n",
    "do_something( 3, 4 )\n",
    "# print( z ) # Fails since z doesn't exist"
   ]
  },
  {
   "cell_type": "markdown",
   "metadata": {},
   "source": [
    "- Note that parameters are local as well\n",
    "- `x` and `y` don't exist outside of the function"
   ]
  },
  {
   "cell_type": "code",
   "execution_count": 16,
   "metadata": {},
   "outputs": [
    {
     "name": "stdout",
     "output_type": "stream",
     "text": [
      "Inside: x=[5]\n",
      "Inside: y=[3]\n",
      "Inside: z=[15]\n",
      "Outside: x=[3]\n",
      "Outside: y=[4]\n"
     ]
    }
   ],
   "source": [
    "def do_something_else( x, y ):\n",
    "    x = x + 2\n",
    "    y = y - 1\n",
    "    z = x * y\n",
    "    print( 'Inside: x=[' + str( x ) + ']' )\n",
    "    print( 'Inside: y=[' + str( y ) + ']' )\n",
    "    print( 'Inside: z=[' + str(z) + ']' )\n",
    "\n",
    "x = 3\n",
    "y = 4\n",
    "do_something_else( x, y )\n",
    "print( 'Outside: x=[' + str( x ) + ']' )\n",
    "print( 'Outside: y=[' + str( y ) + ']' )"
   ]
  },
  {
   "cell_type": "markdown",
   "metadata": {},
   "source": [
    "- Even if the variables share the same name, they are different variables\n",
    "- Think of this like telephone numbers and area codes.  The same number can exist as a local number in different area codes."
   ]
  },
  {
   "cell_type": "markdown",
   "metadata": {},
   "source": [
    "## Stack diagrams\n",
    "- __TODO__ _Insert an image_\n",
    "- Sometimes it is useful to visualize the execution of a program using a __stack diagram__\n",
    "- Each function is represented by a __frame__\n",
    "- The frame holds all the important information about a function's execution, like the variables and the current line of execution\n",
    "- The currently executing function is placed on the bottom\n",
    "- Whenever you encounter a runtime error, Python will display an error detailing the current line of code and the function in which it resides\n",
    "- It will also list the line of code that called that function and the function in which it resides\n",
    "- This continues until it gets the main entry point of the program `__main__`\n",
    "- This is called a __stack trace__ (or sometimes even a __trace back__)\n",
    "- To visualize the execution of the previous code that prints song lyrics, use this website <http://www.pythontutor.com/visualize.html>"
   ]
  },
  {
   "cell_type": "markdown",
   "metadata": {},
   "source": [
    "## Fruitful functions and void functions\n",
    "- We have already used functions that return a value\n",
    "- The book refers to these as __fruitful functions__\n",
    "- Other functions that don't return anything are called __void functions__\n",
    "- When a function returns something, it is rare that you want to ignore it\n",
    "- If you don't use the value, it is lost"
   ]
  },
  {
   "cell_type": "code",
   "execution_count": 17,
   "metadata": {},
   "outputs": [
    {
     "name": "stdout",
     "output_type": "stream",
     "text": [
      "15.707963267948966\n"
     ]
    }
   ],
   "source": [
    "def calculate_area_circle( radius ):\n",
    "    return math.pi * radius ** 2\n",
    "\n",
    "def calculate_area_donut( radius_outer, radius_inner ):\n",
    "    area_outer = calculate_area_circle( radius_outer )\n",
    "    area_inner = calculate_area_circle( radius_inner )\n",
    "    return area_outer - area_inner\n",
    "\n",
    "\n",
    "print( calculate_area_donut( 3, 2 ) )"
   ]
  },
  {
   "cell_type": "markdown",
   "metadata": {},
   "source": [
    "- If you try to save the return value of a void function, the variable will have a value of `None`\n",
    "- This isn't the same as the string `'None'`"
   ]
  },
  {
   "cell_type": "markdown",
   "metadata": {},
   "source": [
    "## Why functions\n",
    "There are a number of benefits of functions:\n",
    "- Creating a new function gives you an opportunity to name a group of statements, which makes your program easier to read and debug.\n",
    "- Functions can make a program smaller by eliminating repetitive code. Later, if you make a change, you only have to make it in one place.\n",
    "- Dividing a long program into functions allows you to debug the parts one at a time and then assemble them into a working whole.\n",
    "- Well-designed functions are often useful for many programs. Once you write and debug one, you can reuse it."
   ]
  },
  {
   "cell_type": "markdown",
   "metadata": {},
   "source": [
    "## Debugging\n",
    "- Don’t use both tabs and spaces in your scripts/programs\n",
    "- Configure your editor to insert spaces when you hit the tab key\n",
    "- Don’t forget to save your script/program before you try to run it\n",
    "- It is frequently helpful to insert debugging statements in your code\n",
    "- Mine frequently look like the following"
   ]
  },
  {
   "cell_type": "code",
   "execution_count": 18,
   "metadata": {},
   "outputs": [
    {
     "name": "stdout",
     "output_type": "stream",
     "text": [
      "x=[55]\n"
     ]
    }
   ],
   "source": [
    "x = 55\n",
    "print( 'x=[' + str( x ) + ']' )"
   ]
  },
  {
   "cell_type": "markdown",
   "metadata": {},
   "source": [
    "***\n",
    "\n",
    "## Exercises\n",
    "- Write a function that takes a radius of a circle as an argument and returns (not prints) the circumference of the circle.  Write a second function that also takes a raidus of a circle as an argument and returns the area of the circle.  Calculate, by hand, the correct answers for circles with radii of 2, 3, and 4.  Test the functions with these values and check for correctness."
   ]
  },
  {
   "cell_type": "code",
   "execution_count": 19,
   "metadata": {},
   "outputs": [],
   "source": [
    "def calc_circle_circumference( radius ):\n",
    "    # INSERT YOUR CODE HERE\n",
    "    return 0\n",
    "\n",
    "def calc_circle_area( radius ):\n",
    "    # INSERT YOUR CODE HERE\n",
    "    return 0"
   ]
  },
  {
   "cell_type": "markdown",
   "metadata": {},
   "source": [
    "- Write a Python function that converts three (3) different Fahrenheit temperatures to Celsius temperatures.  Create two versions of the function:\n",
    "  1. Create a version that prints the converted temperature.\n",
    "  1. Create a version that returns the converted temperature."
   ]
  },
  {
   "cell_type": "code",
   "execution_count": 20,
   "metadata": {},
   "outputs": [],
   "source": [
    "def convert_fahrenheit_to_celsius_print( f_temp ):\n",
    "    # INSERT YOUR CODE HERE\n",
    "    print( '0' )\n",
    "\n",
    "def convert_fahrenheit_to_celsius_return( f_temp ):\n",
    "    # INSERT YOUR CODE HERE\n",
    "    return 0"
   ]
  },
  {
   "cell_type": "markdown",
   "metadata": {},
   "source": [
    "- Bob wants to know how much he should charge for his app on the App store.  He ran two price trials (results below) to gauge interest.  He also has some costs associated with selling his app (listed below).  Write a function called ``calculate_profit`` that takes a proposed price for his app and returns the predicted profit earned.  You may assume a simple linear relationship between the purchase price and the number of purchases.\n",
    "\n",
    "| Purchase price | Number of purchases |\n",
    "|---------------:|--------------------:|\n",
    "| \\$2.00 | 1,000 |\n",
    "| \\$3.00 | 700 |\n",
    "\n",
    "| Known costs |  |\n",
    "|:---|---:|\n",
    "| Refund rate | 5\\% |\n",
    "| Transaction cost | \\$0.50 |"
   ]
  },
  {
   "cell_type": "code",
   "execution_count": 21,
   "metadata": {},
   "outputs": [],
   "source": [
    "# Function to calculate the profit\n",
    "def calculate_profit( app_price ):\n",
    "    # ????\n",
    "\n",
    "    # Profit!\n",
    "    return 0"
   ]
  }
 ],
 "metadata": {
  "kernelspec": {
   "display_name": "Python 3",
   "language": "python",
   "name": "python3"
  },
  "language_info": {
   "codemirror_mode": {
    "name": "ipython",
    "version": 3
   },
   "file_extension": ".py",
   "mimetype": "text/x-python",
   "name": "python",
   "nbconvert_exporter": "python",
   "pygments_lexer": "ipython3",
   "version": "3.7.3"
  }
 },
 "nbformat": 4,
 "nbformat_minor": 2
}
