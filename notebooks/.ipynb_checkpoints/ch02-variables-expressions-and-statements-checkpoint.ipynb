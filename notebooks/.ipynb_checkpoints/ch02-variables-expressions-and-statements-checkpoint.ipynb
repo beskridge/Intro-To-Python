{
 "cells": [
  {
   "cell_type": "markdown",
   "metadata": {},
   "source": [
    "# Chapter 2: Variables, expressions, and statements\n",
    "***\n",
    "__Contents__\n",
    "- [Values and types](#Values-and-types)\n",
    "- [Variables](#Variables)\n",
    "- [Variable names and keywords](#Variable-names-and-keywords)\n",
    "- [Statements](#Statements)\n",
    "- [Operators and operands](#Operators-and-operands)\n",
    "- [Expressions](#Expressions)\n",
    "- [Order of operations](#Order-of-operations)\n",
    "- [String operations](#String-operations)\n",
    "- [Comments](#Comments)\n",
    "- [Exercises](#Exercises)\n",
    "***\n",
    "\n",
    "_This notebook is based on \"Think Python, 2Ed\" by Allen B. Downey_ <br>\n",
    "[https://greenteapress.com/wp/think-python-2e/](https://greenteapress.com/wp/think-python-2e/)\n",
    "***"
   ]
  },
  {
   "cell_type": "markdown",
   "metadata": {},
   "source": [
    "## Values and types\n",
    "- A __value__ is a basic piece of data\n",
    "- Values belong to different __types__ (or, more commonly, __datatypes__)\n",
    "- Python will tell you what type a value is using the `type` function\n",
    "- __Integer__ values are whole numbers\n",
    "- Numbers with decimal types are referred to as __float-point__ values"
   ]
  },
  {
   "cell_type": "code",
   "execution_count": 1,
   "metadata": {},
   "outputs": [
    {
     "data": {
      "text/plain": [
       "int"
      ]
     },
     "execution_count": 1,
     "metadata": {},
     "output_type": "execute_result"
    }
   ],
   "source": [
    "# Integer data\n",
    "type( 17 )"
   ]
  },
  {
   "cell_type": "code",
   "execution_count": 2,
   "metadata": {},
   "outputs": [
    {
     "data": {
      "text/plain": [
       "float"
      ]
     },
     "execution_count": 2,
     "metadata": {},
     "output_type": "execute_result"
    }
   ],
   "source": [
    "# Floating-point data\n",
    "type( 17.0 )"
   ]
  },
  {
   "cell_type": "code",
   "execution_count": 3,
   "metadata": {},
   "outputs": [
    {
     "data": {
      "text/plain": [
       "str"
      ]
     },
     "execution_count": 3,
     "metadata": {},
     "output_type": "execute_result"
    }
   ],
   "source": [
    "# A number inside a string\n",
    "type( '17' )"
   ]
  },
  {
   "cell_type": "markdown",
   "metadata": {},
   "source": [
    "## Variables\n",
    "- A __variable__ is a name, or label for a value\n",
    "- It has no inherent meaning\n",
    "- An __assignment statement__ gives a variable a value\n",
    "- In Python, it even creates the variable if it hasn't been created before"
   ]
  },
  {
   "cell_type": "code",
   "execution_count": 4,
   "metadata": {},
   "outputs": [],
   "source": [
    "count = 55\n",
    "size = 42.0"
   ]
  },
  {
   "cell_type": "markdown",
   "metadata": {},
   "source": [
    "- The `print` function displays the value of a variable"
   ]
  },
  {
   "cell_type": "code",
   "execution_count": 5,
   "metadata": {},
   "outputs": [
    {
     "name": "stdout",
     "output_type": "stream",
     "text": [
      "55\n"
     ]
    }
   ],
   "source": [
    "print( count )"
   ]
  },
  {
   "cell_type": "markdown",
   "metadata": {},
   "source": [
    "- The `type` of a variable is the type of its value"
   ]
  },
  {
   "cell_type": "code",
   "execution_count": 6,
   "metadata": {},
   "outputs": [
    {
     "data": {
      "text/plain": [
       "int"
      ]
     },
     "execution_count": 6,
     "metadata": {},
     "output_type": "execute_result"
    }
   ],
   "source": [
    "type( count )"
   ]
  },
  {
   "cell_type": "markdown",
   "metadata": {},
   "source": [
    "## Variable names and keywords\n",
    "- Variables names need to be meaningful\n",
    "- Don't use `x`, `y`, and `z` as names unless they have real meaning in the problem (like 3-d points)\n",
    "- Variable names can be arbitrarily long and can contain:\n",
    "  - letters\n",
    "  - numbers\n",
    "  - underscores\n",
    "- They have to begin with a letter\n",
    "- You can use uppercase letters, but start variables with a lowercase letter\n",
    "- Python is case sensitive so `max` and `Max` are different variables\n",
    "- An illegal variable name is a __syntax error__\n",
    "- Python has 30 __keywords__ which are words that mean something specific in the language"
   ]
  },
  {
   "cell_type": "markdown",
   "metadata": {},
   "source": [
    "## Statements\n",
    "- A __statement__ is a unit of code that the Python interpreter can execute\n",
    "- Usually a statement is a single line of code, _but_\n",
    "- It can be longer depending on the type of statement\n",
    "- A script (or program) usually contains a sequence of statements"
   ]
  },
  {
   "cell_type": "markdown",
   "metadata": {},
   "source": [
    "## Operators and operands\n",
    "- __Operators__ are special symbols that represent computations like addition and multiplication\n",
    "- The value(s) to which the operator is applied is called an __operand__"
   ]
  },
  {
   "cell_type": "code",
   "execution_count": 7,
   "metadata": {},
   "outputs": [
    {
     "data": {
      "text/plain": [
       "7"
      ]
     },
     "execution_count": 7,
     "metadata": {},
     "output_type": "execute_result"
    }
   ],
   "source": [
    "# Operator: + (addition)\n",
    "# Operands: 3 and 4\n",
    "3 + 4"
   ]
  },
  {
   "cell_type": "code",
   "execution_count": 8,
   "metadata": {},
   "outputs": [
    {
     "data": {
      "text/plain": [
       "-1"
      ]
     },
     "execution_count": 8,
     "metadata": {},
     "output_type": "execute_result"
    }
   ],
   "source": [
    "# Operator: - (subtraction)\n",
    "# Operands: 3 and 4\n",
    "3 - 4"
   ]
  },
  {
   "cell_type": "code",
   "execution_count": 9,
   "metadata": {},
   "outputs": [
    {
     "data": {
      "text/plain": [
       "12"
      ]
     },
     "execution_count": 9,
     "metadata": {},
     "output_type": "execute_result"
    }
   ],
   "source": [
    "# Operator: *tiplication (mul)\n",
    "# Operands: 3 and 4\n",
    "3 * 4"
   ]
  },
  {
   "cell_type": "code",
   "execution_count": 10,
   "metadata": {},
   "outputs": [
    {
     "data": {
      "text/plain": [
       "0.75"
      ]
     },
     "execution_count": 10,
     "metadata": {},
     "output_type": "execute_result"
    }
   ],
   "source": [
    "# Operator: / (division)\n",
    "# Operands: 3 and 4\n",
    "3 / 4"
   ]
  },
  {
   "cell_type": "markdown",
   "metadata": {},
   "source": [
    "- There is a special division operator `//` called __floor division__\n",
    "- It throws away the remainder"
   ]
  },
  {
   "cell_type": "code",
   "execution_count": 11,
   "metadata": {},
   "outputs": [
    {
     "data": {
      "text/plain": [
       "3.3333333333333335"
      ]
     },
     "execution_count": 11,
     "metadata": {},
     "output_type": "execute_result"
    }
   ],
   "source": [
    "10 / 3"
   ]
  },
  {
   "cell_type": "code",
   "execution_count": 12,
   "metadata": {},
   "outputs": [
    {
     "data": {
      "text/plain": [
       "3"
      ]
     },
     "execution_count": 12,
     "metadata": {},
     "output_type": "execute_result"
    }
   ],
   "source": [
    "10 // 3"
   ]
  },
  {
   "cell_type": "markdown",
   "metadata": {},
   "source": [
    "- If either operand is a ``float``, the result is a ``float``"
   ]
  },
  {
   "cell_type": "code",
   "execution_count": 13,
   "metadata": {},
   "outputs": [
    {
     "data": {
      "text/plain": [
       "10"
      ]
     },
     "execution_count": 13,
     "metadata": {},
     "output_type": "execute_result"
    }
   ],
   "source": [
    "5 * 2"
   ]
  },
  {
   "cell_type": "code",
   "execution_count": 14,
   "metadata": {},
   "outputs": [
    {
     "data": {
      "text/plain": [
       "10.0"
      ]
     },
     "execution_count": 14,
     "metadata": {},
     "output_type": "execute_result"
    }
   ],
   "source": [
    "5 * 2.0"
   ]
  },
  {
   "cell_type": "code",
   "execution_count": 15,
   "metadata": {},
   "outputs": [
    {
     "data": {
      "text/plain": [
       "10.0"
      ]
     },
     "execution_count": 15,
     "metadata": {},
     "output_type": "execute_result"
    }
   ],
   "source": [
    "5.0 * 2"
   ]
  },
  {
   "cell_type": "code",
   "execution_count": 16,
   "metadata": {},
   "outputs": [
    {
     "data": {
      "text/plain": [
       "10.0"
      ]
     },
     "execution_count": 16,
     "metadata": {},
     "output_type": "execute_result"
    }
   ],
   "source": [
    "5.0 * 2.0"
   ]
  },
  {
   "cell_type": "markdown",
   "metadata": {},
   "source": [
    "## Expressions\n",
    "- An __expression__ is a combination of values, variables and operators\n",
    "- A value or a variable is itself an expression\n",
    "- The interpreter __evaluates__ expressions and uses the result for other expressions or simply displays it (if it is executed in the console)\n",
    "- A statement is comprised of one or more expressions"
   ]
  },
  {
   "cell_type": "markdown",
   "metadata": {},
   "source": [
    "## Order of operations\n",
    "- The order in which operators are evaluated in an expression depends on the __rules of precedence__\n",
    "- Python follows the standard mathematical convention\n",
    "- You may know it as __PEMDAS__\n",
    "  1. Parenthesis\n",
    "  1. Exponent\n",
    "  1. Multiplication\n",
    "  1. Division\n",
    "  1. Addition\n",
    "  1. Subtraction"
   ]
  },
  {
   "cell_type": "code",
   "execution_count": 17,
   "metadata": {},
   "outputs": [
    {
     "data": {
      "text/plain": [
       "0.15915507752443828"
      ]
     },
     "execution_count": 17,
     "metadata": {},
     "output_type": "execute_result"
    }
   ],
   "source": [
    "1.0 / ( 2 * 3.14159 )"
   ]
  },
  {
   "cell_type": "markdown",
   "metadata": {},
   "source": [
    "## String operations\n",
    "- In general, you can't use mathematical operators with string values or variables\n",
    "- Even if the strings look like numbers"
   ]
  },
  {
   "cell_type": "code",
   "execution_count": 18,
   "metadata": {},
   "outputs": [],
   "source": [
    "# Can't divide a string by an integer\n",
    "# Uncomment to demonstrate\n",
    "# '13' / 42"
   ]
  },
  {
   "cell_type": "markdown",
   "metadata": {},
   "source": [
    "- One exception is the `+` operator\n",
    "- It performs __concatenation__ with strings\n",
    "- This means that it joins strings together"
   ]
  },
  {
   "cell_type": "code",
   "execution_count": 19,
   "metadata": {},
   "outputs": [
    {
     "data": {
      "text/plain": [
       "'fizzbuzz'"
      ]
     },
     "execution_count": 19,
     "metadata": {},
     "output_type": "execute_result"
    }
   ],
   "source": [
    "'fizz' + 'buzz'"
   ]
  },
  {
   "cell_type": "markdown",
   "metadata": {},
   "source": [
    "- Another exception is the `*` operator\n",
    "- It repeats a string"
   ]
  },
  {
   "cell_type": "code",
   "execution_count": 20,
   "metadata": {},
   "outputs": [
    {
     "data": {
      "text/plain": [
       "'lalala'"
      ]
     },
     "execution_count": 20,
     "metadata": {},
     "output_type": "execute_result"
    }
   ],
   "source": [
    "'la' * 3"
   ]
  },
  {
   "cell_type": "markdown",
   "metadata": {},
   "source": [
    "## Comments\n",
    "- __Comments__ are a way for you to add notes to your program\n",
    "- They improve understanding of your code by describing the _why_ of the code\n",
    "- Code already provides the _how_, so don't have your comments repeat that\n",
    "- This assumes that your code is understandable an you have chosen appropriate variable names"
   ]
  },
  {
   "cell_type": "code",
   "execution_count": 21,
   "metadata": {},
   "outputs": [],
   "source": [
    "# Poor example\n",
    "# Calculate it\n",
    "y = 2\n",
    "x = 2 * 3.14 * y"
   ]
  },
  {
   "cell_type": "code",
   "execution_count": 22,
   "metadata": {},
   "outputs": [],
   "source": [
    "# Good example\n",
    "# Calculate circumference of a circle\n",
    "pi = 3.14\n",
    "radius = 2\n",
    "circumference = 2 * pi * radius"
   ]
  },
  {
   "cell_type": "markdown",
   "metadata": {},
   "source": [
    "- There are multiple ways to denote comments in your code\n",
    "- The easiest is to use the `#` character\n",
    "- Everything from the `#` to the end of the line is ignored\n",
    "- Although the book shows comments to the right of the code, I prefer that you put the comment above the code it describes"
   ]
  },
  {
   "cell_type": "markdown",
   "metadata": {},
   "source": [
    "## Exercises\n",
    "- Complete Exercise 2.2 from page 15 of the textbook \"Think Python, 2Ed\".  It has three (3) parts.  Write Python code that computes the answer of all three.\n",
    "  1. The volume of a sphere with radius $r$ is $\\frac{4}{3} \\pi r^3$.  What is the volume of a sphere with radius 5?\n",
    "  1. Suppose the cover price of a book is \\\\$24.95, but bookstores get at 40% discount.  Sipping costs \\\\$3 for the first copy and 75 cents for each additional copy.  What is the total wholesale cost for 60 copies?\n",
    "  1. If I leave my house at 6:52am and run 1 mile at an easy pace (8:15 per mile), then 3 miles at tempo (7:12 per mile) and 1 mile at easy pace again, what time do I get home for breakfast?\n",
    "- Write Python code that converts three (3) different Fahrenheit temperatures to Celsius temperatures.\n",
    "- Write Python code that converts three (3) different distances given in miles to kilometers."
   ]
  }
 ],
 "metadata": {
  "kernelspec": {
   "display_name": "Python 3",
   "language": "python",
   "name": "python3"
  },
  "language_info": {
   "codemirror_mode": {
    "name": "ipython",
    "version": 3
   },
   "file_extension": ".py",
   "mimetype": "text/x-python",
   "name": "python",
   "nbconvert_exporter": "python",
   "pygments_lexer": "ipython3",
   "version": "3.7.3"
  }
 },
 "nbformat": 4,
 "nbformat_minor": 2
}
