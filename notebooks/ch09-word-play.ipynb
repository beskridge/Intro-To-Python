{
 "cells": [
  {
   "cell_type": "markdown",
   "metadata": {},
   "source": [
    "# Chapter 9: Word play\n",
    "***\n",
    "__Contents__\n",
    "- [Reading word lists](#Reading-word-lists)\n",
    "- [Search](#Search)\n",
    "- [Looping with indices](#Looping-with-indices)\n",
    "- [Debugging](#Debugging)\n",
    "- [Exercises](#Exercises)\n",
    "***\n",
    "\n",
    "_This notebook is based on \"Think Python, 2Ed\" by Allen B. Downey_ <br>\n",
    "[https://greenteapress.com/wp/think-python-2e/](https://greenteapress.com/wp/think-python-2e/)\n",
    "***"
   ]
  },
  {
   "cell_type": "markdown",
   "metadata": {},
   "source": [
    "## Reading word lists\n",
    "- The built-in function ``open`` opens a file (specified as the argument) and returns a __file object__"
   ]
  },
  {
   "cell_type": "code",
   "execution_count": 4,
   "metadata": {},
   "outputs": [
    {
     "name": "stdout",
     "output_type": "stream",
     "text": [
      "<_io.TextIOWrapper name='data/short-words.txt' mode='r' encoding='UTF-8'>\n"
     ]
    }
   ],
   "source": [
    "input_file = open( 'data/short-words.txt' )\n",
    "print( input_file )"
   ]
  },
  {
   "cell_type": "markdown",
   "metadata": {},
   "source": [
    "- The book says ``fin`` is an acceptable name, but I opt for a more descriptive name\n",
    "- There are a number of methods for reading and writing files, including:\n",
    "  - ``read( size )`` Reads ``size`` bytes of data.  If ``size`` is omitted or negative, the entire file is readn and return.  Returns an empty string if the end of the file (``EOF``) is reached.\n",
    "  - ``readline()`` Reads a single line from the file\n",
    "  - ``write( a_string )`` Writes a string to the file\n",
    "  - ``close()`` Closes the file object and frees up any system resources\n",
    "- You can also use a ``for`` loop to read each line of the file"
   ]
  },
  {
   "cell_type": "code",
   "execution_count": 6,
   "metadata": {},
   "outputs": [
    {
     "name": "stdout",
     "output_type": "stream",
     "text": [
      "abroad\n",
      "battlefield\n",
      "chapter\n",
      "deliver\n",
      "glockenspiel\n",
      "institutional\n"
     ]
    }
   ],
   "source": [
    "for line in input_file:\n",
    "    word = line.strip()\n",
    "    print( word )"
   ]
  },
  {
   "cell_type": "markdown",
   "metadata": {},
   "source": [
    "- The ``strip`` method removes whitespace at the beginning and end of a string"
   ]
  },
  {
   "cell_type": "markdown",
   "metadata": {},
   "source": [
    "## Search\n",
    "- Most of the exercises in this chapter have something in common\n",
    "- They all involve searching a string for specific characters"
   ]
  },
  {
   "cell_type": "code",
   "execution_count": 8,
   "metadata": {},
   "outputs": [
    {
     "name": "stdout",
     "output_type": "stream",
     "text": [
      "No `e`:  abroad\n",
      "No `e`:  institutional\n"
     ]
    }
   ],
   "source": [
    "def has_no_e( word ):\n",
    "    result = True\n",
    "    for letter in word:\n",
    "        if( 'e' == letter ):\n",
    "            result = False\n",
    "    return result\n",
    "\n",
    "input_file = open( 'data/short-words.txt' )\n",
    "for line in input_file:\n",
    "    word = line.strip()\n",
    "    if( has_no_e( word ) ):\n",
    "        print( 'No `e`: ', word )"
   ]
  },
  {
   "cell_type": "markdown",
   "metadata": {},
   "source": [
    "- The ``for`` loop traverses each letter in the word looking for an ``e``\n",
    "- In fact, if you paid very good attention, you will see that the ``uses_all`` and ``uses_only`` functions in the book are the same\n",
    "- In computer science, we frequently encounter problems that are essentially the same as ones we have already solved, but are just worded differently\n",
    "- When you find one (called __problem recognition__), you can apply a previously developed solution\n",
    "- How much work you need to do to apply it is dependent on how general your solution is\n",
    "- This is an essential skill for problem-solving in general and not just programming"
   ]
  },
  {
   "cell_type": "markdown",
   "metadata": {},
   "source": [
    "## Looping with indices\n",
    "- The previous code didn't have a need to use the indices of characters so the simple ``for ... in`` loop was used\n",
    "- There are a number of ways to traverse a string while maintaining a current index\n",
    "  1. Use a ``for`` loop across the range of the length of the string\n",
    "  2. Use recursion\n",
    "  3. Use a ``while`` loop and maintain the current index\n",
    "- I recommend the first option as it lets the ``for`` loop maintain the index\n",
    "- Recursion is more complex than necessary for this problem\n",
    "- A ``while`` loop can be used, but isn't as well suited since we know exactly how many times we need to run through the loop\n",
    "- Examples of all three options are below"
   ]
  },
  {
   "cell_type": "code",
   "execution_count": 3,
   "metadata": {},
   "outputs": [
    {
     "name": "stdout",
     "output_type": "stream",
     "text": [
      "For: [ 0 ]=[ b ]\n",
      "For: [ 1 ]=[ a ]\n",
      "For: [ 2 ]=[ n ]\n",
      "For: [ 3 ]=[ a ]\n",
      "For: [ 4 ]=[ n ]\n",
      "For: [ 5 ]=[ a ]\n",
      "Recursive: [ 0 ]=[ b ]\n",
      "Recursive: [ 1 ]=[ a ]\n",
      "Recursive: [ 2 ]=[ n ]\n",
      "Recursive: [ 3 ]=[ a ]\n",
      "Recursive: [ 4 ]=[ n ]\n",
      "Recursive: [ 5 ]=[ a ]\n",
      "While: [ 0 ]=[ b ]\n",
      "While: [ 1 ]=[ a ]\n",
      "While: [ 2 ]=[ n ]\n",
      "While: [ 3 ]=[ a ]\n",
      "While: [ 4 ]=[ n ]\n",
      "While: [ 5 ]=[ a ]\n"
     ]
    }
   ],
   "source": [
    "fruit = 'banana'\n",
    "\n",
    "# For loop\n",
    "for i in range( len( fruit ) ):\n",
    "    print( 'For: [',i,']=[',fruit[i],']' )\n",
    "\n",
    "# Recursive function\n",
    "def recurse_through_string( word, i ):\n",
    "    print( 'Recursive: [',i,']=[',fruit[i],']' )\n",
    "    if( (i + 1) < len( word ) ):\n",
    "        recurse_through_string( word, i + 1 )\n",
    "\n",
    "recurse_through_string( fruit, 0 )\n",
    "        \n",
    "# While loop\n",
    "i = 0\n",
    "while( i < len( fruit ) ):\n",
    "    print( 'While: [',i,']=[',fruit[i],']' )\n",
    "    i = i + 1"
   ]
  },
  {
   "cell_type": "markdown",
   "metadata": {},
   "source": [
    "## Debugging\n",
    "- Testing is _hard_\n",
    "- The programs discussed in this chapter are relatively easy to test since you can check the results by hand\n",
    "- There are ways to make testing easier and more effective\n",
    "- One is to ensure you have different variations of a test\n",
    "- For example, for the words with an ``e`` function, test using words that have an ``e`` at the beginning, middle and end.  Test long and short words (including the empty string).\n",
    "- Often you will come across __special cases__ (like the empty string) that can throw your program off if you don't have a robust solution\n",
    "- Another option is finding large sets of data (like the words list file) against which you can test your program\n",
    "- However, if your program requires you to manually inspect the tests for correctness, you are always at risk of missing something\n",
    "- The best option is automated testing\n",
    "- For example, wrapping your tests in conditionals that only print out if the test fails is a good start\n",
    "- In later courses, I will discuss libraries that make automated testing easier\n",
    "- Remember that although it feels like more work to write tests, it saves quite a bit of time in the long run"
   ]
  },
  {
   "cell_type": "markdown",
   "metadata": {},
   "source": [
    "## Exercises\n",
    "- Write a program that reads ``words.txt`` and prints only the words with more than 20 characters (not counting whitespace).  _(Ex. 9.1 on pg. 84)_\n",
    "- Generalize the ``has_no_e`` function to a function called ``avoids`` that takes a word and a string of forbidden letters.  It should return ``True`` if the word does not contain any of the forbidden letters and ``False`` if it does.  _(Ex. 9.3 on pg. 84)_\n",
    "- Write a function called ``uses_only`` that takes a word and a string of letters, and returns ``True`` if the word contains only letters in the list.  _(Ex. 9.4 on pg. 84)_"
   ]
  }
 ],
 "metadata": {
  "kernelspec": {
   "display_name": "Python 3",
   "language": "python",
   "name": "python3"
  },
  "language_info": {
   "codemirror_mode": {
    "name": "ipython",
    "version": 3
   },
   "file_extension": ".py",
   "mimetype": "text/x-python",
   "name": "python",
   "nbconvert_exporter": "python",
   "pygments_lexer": "ipython3",
   "version": "3.7.3"
  }
 },
 "nbformat": 4,
 "nbformat_minor": 2
}
