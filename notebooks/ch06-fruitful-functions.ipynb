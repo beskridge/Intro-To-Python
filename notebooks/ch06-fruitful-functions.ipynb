{
 "cells": [
  {
   "cell_type": "markdown",
   "metadata": {},
   "source": [
    "# Chapter 6: Fruitful functions\n",
    "***\n",
    "__Contents__\n",
    "- [Return values](#Return-values)\n",
    "- [Incremental development](#Incremental-development)\n",
    "- [Composition](#Composition)\n",
    "- [Boolean functions](#Boolean-functions)\n",
    "- [More recursion](#More-recursion)\n",
    "- [Leap of faith](#Leap-of-faith)\n",
    "- [One more example](#One-more-example)\n",
    "- [Checking types](#Checking-types)\n",
    "- [Debugging](#Debugging)\n",
    "- [Exercises](#Exercises)\n",
    "***\n",
    "\n",
    "_This notebook is based on \"Think Python, 2Ed\" by Allen B. Downey_ <br>\n",
    "[https://greenteapress.com/wp/think-python-2e/](https://greenteapress.com/wp/think-python-2e/)\n",
    "***"
   ]
  },
  {
   "cell_type": "markdown",
   "metadata": {},
   "source": [
    "## Return values\n",
    "- Some of the functions we have used produce, or __return__, a value, but\n",
    "- Most of the functions we have written are _void__, meaning they don’t return any value\n",
    "- We are going to now focus on writing functions that return something\n",
    "- The book refers to these as __fruitful functions__\n",
    "- A ``return`` statement ends the function immediately and gives the value of the expression following it to the caller\n",
    "- The expression can be complicated, or a simple variable holding a value\n",
    "- A variable is preferred as it simplifies debugging\n",
    "- Just because a function returns a value doesn't mean that the caller has to use or store it- Also, you should only have one return statement in a function (despite what the book says)\n",
    "- Multiple return statements can complicate debugging code\n",
    "- Consider the code below"
   ]
  },
  {
   "cell_type": "code",
   "execution_count": 1,
   "metadata": {},
   "outputs": [
    {
     "ename": "SyntaxError",
     "evalue": "invalid syntax (<ipython-input-1-ca8f0e497ebe>, line 5)",
     "output_type": "error",
     "traceback": [
      "\u001b[0;36m  File \u001b[0;32m\"<ipython-input-1-ca8f0e497ebe>\"\u001b[0;36m, line \u001b[0;32m5\u001b[0m\n\u001b[0;31m    elsif( x > 10 ):\u001b[0m\n\u001b[0m                    ^\u001b[0m\n\u001b[0;31mSyntaxError\u001b[0m\u001b[0;31m:\u001b[0m invalid syntax\n"
     ]
    }
   ],
   "source": [
    "def do_something_multiple( x ):\n",
    "    if( x < 0 ):\n",
    "        # Do something complicated\n",
    "        return -1\n",
    "    elif( x > 10 ):\n",
    "        # Do something complicated\n",
    "        return 1\n",
    "    else:\n",
    "        return 0\n",
    "\n",
    "def do_something_single( x ):\n",
    "    # Create a value to hold the result\n",
    "    result = 0\n",
    "    \n",
    "    if( x < 0 ):\n",
    "        # Do something complicated\n",
    "        result = -1\n",
    "    elif( x > 10 ):\n",
    "        # Do something complicated\n",
    "        result = 1\n",
    "    else:\n",
    "        result = 0\n",
    "\n",
    "    # Return the result\n",
    "    return result"
   ]
  },
  {
   "cell_type": "markdown",
   "metadata": {},
   "source": [
    "- While both functions do the same thing, the second is easier to debug\n",
    "- The first function has three (3) potential paths to the function, meaning there are three paths that need to be checked in case of an error\n",
    "- The second function has only one way in and out of the function, meaning it is easier to track down an error"
   ]
  },
  {
   "cell_type": "markdown",
   "metadata": {},
   "source": [
    "## Incremental development\n",
    "- As you write more and longer functions, you will find yourself debugging more often\n",
    "- As the complexity increases, so does the probability of errors and the need for debugging\n",
    "- __Incremental development__ is a way of dealing with this complexity and reducing the chance of errrors\n",
    "- The goal is to only add small portions of code at a time and test them before moving on\n",
    "- The key aspects of the process are:\n",
    "  1. Start with a working program and make small, incremental changes.  At any point, if there is an error, you should have a good idea as to where it is.\n",
    "  1. Use temporary variables to hold intermediate values so you can display and check them.\n",
    "  1. Once the program is working, remove some of the scaffolding or consolidate multiple statements into compound expressions, but only if it doesn't make the program hard to read.\n",
    "- Displaying the algorithm's current progress is a simple form of __logging__\n",
    "- Adding print statements for crucial values as you write code is a form of __scaffolding__\n",
    "- This type of code helps you write the software, but isn't useful in the final version\n",
    "- __TODO__ Work hypotenuse example from the textbook (Ex. 6.2)"
   ]
  },
  {
   "cell_type": "markdown",
   "metadata": {},
   "source": [
    "## Composition\n",
    "- Building larger components from smaller components is called __composition__\n",
    "- Here, we see it as calling functions from within another function\n",
    "- We did this with the area of a donut function discussed in a previous chapter\n",
    "- Although the book says that we can remove the temporary variable ``radius`` and ``result`` in its ``circle_area`` function once we are done with development, I disagree\n",
    "- It makes the code much more readable and easier to debug/refactor in the future\n",
    "- The idea of composition is fundamental in programming and we will use it consistently"
   ]
  },
  {
   "cell_type": "markdown",
   "metadata": {},
   "source": [
    "## Boolean functions\n",
    "- Functions can also return ``boolean`` values\n",
    "- Again, _don't_ follow the boks example by having more than one ``return`` statement in a function\n",
    "- Boolean return values are common for functions that ask ``True``/``False`` or yes/no questions\n",
    "- Try to think of some questions of this type you may want to ask\n",
    "- These types of functions are often used in conditional statemetns\n",
    "- When you do this, don't test the result against ``True`` or ``False``\n",
    "- It is unnecessary and an opportunity to insert a logic error"
   ]
  },
  {
   "cell_type": "code",
   "execution_count": 2,
   "metadata": {},
   "outputs": [
    {
     "name": "stdout",
     "output_type": "stream",
     "text": [
      "True\n",
      "False\n",
      "It is between the values\n",
      "It is between the values\n"
     ]
    }
   ],
   "source": [
    "def is_between( x, y, z ):\n",
    "    return (x <= y) and (y <= z)\n",
    "\n",
    "print( is_between( 1, 2, 3) )\n",
    "print( is_between( 1, 0, 3) )\n",
    "\n",
    "# Do this\n",
    "if( is_between( 1, 2, 3 ) ):\n",
    "    print( 'It is between the values' )\n",
    "\n",
    "# Don't do this\n",
    "if( is_between( 1, 2, 3 ) == True ):\n",
    "    print( 'It is between the values' )\n"
   ]
  },
  {
   "cell_type": "markdown",
   "metadata": {},
   "source": [
    "## More recursion\n",
    "- We have only covered a small portion of Python, but we have covered enough to implement any general algorithm\n",
    "- We are still missing things for input and output, but that’s it\n",
    "- To illustrate this point, the book develops a recursive function to compute factorials\n",
    "- Since we have covered additional recursive functions beyond countdown, we can move on"
   ]
  },
  {
   "cell_type": "markdown",
   "metadata": {},
   "source": [
    "## Leap of faith\n",
    "- Following the flow of execution is one way to read a program\n",
    "- However, that can quickly become tiresome\n",
    "- Another way is to skip over functions and assume they worked correctly\n",
    "- The author refers to this as a __leap of faith__\n",
    "- It could also be referred to as the __happy path__\n",
    "- You do this instinctively when you read code with a ``print`` or ``input`` functions\n",
    "- This can be especially helpful when you are writing a recursive function"
   ]
  },
  {
   "cell_type": "markdown",
   "metadata": {},
   "source": [
    "## Checking types\n",
    "- When we encountered the problem of floats and negative values as arguments to the ``countdown`` and ``fibonacci`` functions, we had two choices\n",
    "  1. Generalize the function to work with the alternative data\n",
    "  1. Check the parameters to ensure they are correct\n",
    "- Sometimes the first option will work, but\n",
    "- Most often the second is better\n",
    "- This is especially true for functions that have specific requirements regarding the validity of the arguments\n",
    "- Code that handles the check is referred to as the __guardian__\n",
    "- It protects the rest of the code from values that might cause an error\n",
    "- _What are some real-world examples?_"
   ]
  },
  {
   "cell_type": "markdown",
   "metadata": {},
   "source": [
    "## Debugging\n",
    "- Divide and conquer gives us many opportunities for debugging\n",
    "- We have seen this as we build smaller, helper functions and test them before building larger functions\n",
    "- If a function isn’t working, there are three possibilities to consider:\n",
    "  – There is something wrong with the arguments passed (a precondition is violated)\n",
    "  – There is something wrong with the function itself (a postcondition is violated)\n",
    "  – There is something wrong with the return value or the way it is used in client code\n",
    "- Using careful detective work, you can determine where the error lies\n",
    "- The first possibility can be tested by logging the function’s parameter values\n",
    "- The second possibility can be tested by logging out the state of the system as the function does its work\n",
    "- Also, call the function with arguments for which the correct output is known and testable\n",
    "- The third possibility can be tested by looking at how the function is being used and called"
   ]
  },
  {
   "cell_type": "markdown",
   "metadata": {},
   "source": [
    "## Exercises\n",
    "- Write a function that computes the sum of the numbers from 1 to ``n`` using both an iterative and a recursive approach.  Which was easier?  Why?"
   ]
  },
  {
   "cell_type": "code",
   "execution_count": 3,
   "metadata": {},
   "outputs": [],
   "source": [
    "def sum_numbers_iterative( n ):\n",
    "    # INSERT YOUR CODE HERE\n",
    "    return 0\n",
    "\n",
    "def sum_numbers_recursive( n ):\n",
    "    # INSERT YOUR CODE HERE\n",
    "    return 0"
   ]
  },
  {
   "cell_type": "markdown",
   "metadata": {},
   "source": [
    "- Write a function that implements multiplication using only addition using both an iterative and a recursive approach.  Which was easier?  Why?"
   ]
  },
  {
   "cell_type": "code",
   "execution_count": 4,
   "metadata": {},
   "outputs": [],
   "source": [
    "def multiply_iterative( n ):\n",
    "    # INSERT YOUR CODE HERE\n",
    "    return 0\n",
    "\n",
    "def multiply_recursive( n ):\n",
    "    # INSERT YOUR CODE HERE\n",
    "    return 0"
   ]
  },
  {
   "cell_type": "markdown",
   "metadata": {},
   "source": [
    "- Write a function that checks to see if a number ``n`` is a prime number using both an iterative and a recursive approach.  Which was easier?  Why?"
   ]
  },
  {
   "cell_type": "code",
   "execution_count": 5,
   "metadata": {},
   "outputs": [],
   "source": [
    "def is_prime_iterative( n ):\n",
    "    # INSERT YOUR CODE HERE\n",
    "    return 0\n",
    "\n",
    "def is_prime_recursive( n ):\n",
    "    # INSERT YOUR CODE HERE\n",
    "    return 0"
   ]
  }
 ],
 "metadata": {
  "kernelspec": {
   "display_name": "Python 3",
   "language": "python",
   "name": "python3"
  },
  "language_info": {
   "codemirror_mode": {
    "name": "ipython",
    "version": 3
   },
   "file_extension": ".py",
   "mimetype": "text/x-python",
   "name": "python",
   "nbconvert_exporter": "python",
   "pygments_lexer": "ipython3",
   "version": "3.7.3"
  }
 },
 "nbformat": 4,
 "nbformat_minor": 2
}
