{
 "cells": [
  {
   "cell_type": "markdown",
   "metadata": {},
   "source": [
    "# Chapter 8: Strings\n",
    "***\n",
    "__Contents__\n",
    "- [A string is a sequence](#A-string-is-a-sequence)\n",
    "- [The len operator](#The-len-operator)\n",
    "- [Traversal with a for loop](#Traversal-with-a-for-loop)\n",
    "- [String slices](#String-slices)\n",
    "- [Strings are immutable](#Strings-are-immutable)\n",
    "- [Searching](#Searching)\n",
    "- [String methods](#String-methods)\n",
    "- [The in operator](#The-in-operator)\n",
    "- [String comparison](#String-comparison)\n",
    "- [Debugging](#Debugging)\n",
    "- [Exercises](#Exercises)\n",
    "***\n",
    "\n",
    "_This notebook is based on \"Think Python, 2Ed\" by Allen B. Downey_ <br>\n",
    "[https://greenteapress.com/wp/think-python-2e/](https://greenteapress.com/wp/think-python-2e/)\n",
    "***"
   ]
  },
  {
   "cell_type": "markdown",
   "metadata": {},
   "source": [
    "## A string is a sequence\n",
    "- A string is a __sequence__ of characters\n",
    "- You can access individual characters in the sequence using the bracket operator"
   ]
  },
  {
   "cell_type": "code",
   "execution_count": 1,
   "metadata": {},
   "outputs": [
    {
     "name": "stdout",
     "output_type": "stream",
     "text": [
      "a\n"
     ]
    }
   ],
   "source": [
    "fruit = 'banana'\n",
    "letter = fruit[1]\n",
    "print( letter )"
   ]
  },
  {
   "cell_type": "markdown",
   "metadata": {},
   "source": [
    "- _Why was an ``a`` returned instead of ``b``?_\n",
    "- Computer scientists (and much of Europe) count starting with 0\n",
    "- These sequence are referred to as __zero-based__\n",
    "- The bracket notation only accepts integers (or expressions that result in an integer)"
   ]
  },
  {
   "cell_type": "markdown",
   "metadata": {},
   "source": [
    "## The len operator\n",
    "- ``len`` is a built-in function that returns the number of characters in a string"
   ]
  },
  {
   "cell_type": "code",
   "execution_count": 2,
   "metadata": {},
   "outputs": [
    {
     "data": {
      "text/plain": [
       "6"
      ]
     },
     "execution_count": 2,
     "metadata": {},
     "output_type": "execute_result"
    }
   ],
   "source": [
    "len( fruit )"
   ]
  },
  {
   "cell_type": "markdown",
   "metadata": {},
   "source": [
    "- Note that the lenght is one-based, just like normal counting\n",
    "- _What happens when you try to access a value that is out of range?_"
   ]
  },
  {
   "cell_type": "code",
   "execution_count": 3,
   "metadata": {},
   "outputs": [],
   "source": [
    "length = len( fruit )\n",
    "# Uncomment to see what happens\n",
    "#last = fruit[ length ]"
   ]
  },
  {
   "cell_type": "markdown",
   "metadata": {},
   "source": [
    "- Remember that indices are zero-based, while counting is one-based\n",
    "- There are multiple ways to get the last letter"
   ]
  },
  {
   "cell_type": "code",
   "execution_count": 4,
   "metadata": {},
   "outputs": [],
   "source": [
    "last = fruit[ length - 1 ]\n",
    "last = fruit[ -1 ]"
   ]
  },
  {
   "cell_type": "markdown",
   "metadata": {},
   "source": [
    "- You can also use other negative integers to index characters"
   ]
  },
  {
   "cell_type": "markdown",
   "metadata": {},
   "source": [
    "## Traversal with a for loop\n",
    "- There is frequently a need to process each item in a sequence one at a time\n",
    "- This is done by __traversing__ the sequence and processing each item in turn\n",
    "- One way to do this is using a ``while`` loop"
   ]
  },
  {
   "cell_type": "code",
   "execution_count": 5,
   "metadata": {},
   "outputs": [
    {
     "name": "stdout",
     "output_type": "stream",
     "text": [
      "b\n",
      "a\n",
      "n\n",
      "a\n",
      "n\n",
      "a\n"
     ]
    }
   ],
   "source": [
    "index = 0\n",
    "while( index < len( fruit ) ):\n",
    "    letter = fruit[ index ]\n",
    "    print( letter )\n",
    "    index = index + 1"
   ]
  },
  {
   "cell_type": "markdown",
   "metadata": {},
   "source": [
    "- A ``for`` loop can also be used\n",
    "- We can either use the for loop to keep track of the index or have Python automatically access each value in the sequence"
   ]
  },
  {
   "cell_type": "code",
   "execution_count": 6,
   "metadata": {},
   "outputs": [
    {
     "name": "stdout",
     "output_type": "stream",
     "text": [
      "b\n",
      "a\n",
      "n\n",
      "a\n",
      "n\n",
      "a\n",
      "b\n",
      "a\n",
      "n\n",
      "a\n",
      "n\n",
      "a\n"
     ]
    }
   ],
   "source": [
    "# Use the for loop to keep track of the index\n",
    "for index in range( len( fruit ) ):\n",
    "    print( fruit[ index ] )\n",
    "\n",
    "# Have Python keep track of things for us\n",
    "for char in fruit:\n",
    "    print( char )"
   ]
  },
  {
   "cell_type": "markdown",
   "metadata": {},
   "source": [
    "- The second approach can be simpler, but you don't know the index of the value\n",
    "- Loops can also be used to build strings"
   ]
  },
  {
   "cell_type": "code",
   "execution_count": 7,
   "metadata": {},
   "outputs": [
    {
     "name": "stdout",
     "output_type": "stream",
     "text": [
      "Jack\n",
      "Kack\n",
      "Lack\n",
      "Mack\n",
      "Nack\n",
      "Oack\n",
      "Pack\n",
      "Qack\n"
     ]
    }
   ],
   "source": [
    "prefixes = 'JKLMNOPQ'\n",
    "suffix = 'ack'\n",
    "\n",
    "for letter in prefixes:\n",
    "    print( letter + suffix )"
   ]
  },
  {
   "cell_type": "markdown",
   "metadata": {},
   "source": [
    "## String slices\n",
    "- A segment of a string is called a __slice__\n",
    "- The method of selecting a slice is similar to accessing a single character"
   ]
  },
  {
   "cell_type": "code",
   "execution_count": 8,
   "metadata": {},
   "outputs": [
    {
     "name": "stdout",
     "output_type": "stream",
     "text": [
      "Monty\n",
      "Python\n"
     ]
    }
   ],
   "source": [
    "s = 'Monty Python'\n",
    "print( s[0:5] )\n",
    "print( s[6:12] )"
   ]
  },
  {
   "cell_type": "markdown",
   "metadata": {},
   "source": [
    "- The operator ``[n:m]`` returns a portion of the string\n",
    "- The ``n``-th item is included, but the ``m``-th item is _not_\n",
    "- __TODO__ insert image\n",
    "- If you omit an index from the slice, it either uses the beginning or the end of the string depending on which index is omitted"
   ]
  },
  {
   "cell_type": "code",
   "execution_count": 9,
   "metadata": {},
   "outputs": [
    {
     "name": "stdout",
     "output_type": "stream",
     "text": [
      "ban\n",
      "ana\n"
     ]
    }
   ],
   "source": [
    "fruit = 'banana'\n",
    "print( fruit[:3] )\n",
    "print( fruit[3:] )"
   ]
  },
  {
   "cell_type": "markdown",
   "metadata": {},
   "source": [
    "- If the first index is greater than or equal to the second, an __empty string__ is returned"
   ]
  },
  {
   "cell_type": "markdown",
   "metadata": {},
   "source": [
    "## Strings are immutable\n",
    "- Strings are __immutable__\n",
    "- This means you can't change a string once it has been built"
   ]
  },
  {
   "cell_type": "code",
   "execution_count": 10,
   "metadata": {},
   "outputs": [],
   "source": [
    "greeting = 'Hello world!'\n",
    "# Uncomment to see the error generated\n",
    "# greeting[0] = 'J'"
   ]
  },
  {
   "cell_type": "markdown",
   "metadata": {},
   "source": [
    "- In the error, the ``object`` is the string and the ``item`` is the character\n",
    "- Don't worry about the idea of an object right now\n",
    "- We will discuss it later\n",
    "- For now, think of it as a variable's value\n",
    "- Since strings are immutable, the only way to \"change\" one is to create a new one with the changes you want"
   ]
  },
  {
   "cell_type": "code",
   "execution_count": 11,
   "metadata": {},
   "outputs": [
    {
     "name": "stdout",
     "output_type": "stream",
     "text": [
      "Jello world!\n",
      "Hello world!\n"
     ]
    }
   ],
   "source": [
    "greeting = 'Hello world!'\n",
    "new_greeting = 'J' + greeting[1:]\n",
    "print( new_greeting )\n",
    "print( greeting )"
   ]
  },
  {
   "cell_type": "markdown",
   "metadata": {},
   "source": [
    "- Note that the original string is unchanged"
   ]
  },
  {
   "cell_type": "markdown",
   "metadata": {},
   "source": [
    "## Searching\n",
    "- In many situations, you need to search for a particular value in a sequence of values\n",
    "- The easiest way to do it is using a __sequential search__"
   ]
  },
  {
   "cell_type": "code",
   "execution_count": 12,
   "metadata": {},
   "outputs": [],
   "source": [
    "def find( word, letter ):\n",
    "    letter_index = -1\n",
    "    current_index = 0\n",
    "    while( current_index < len( word ) ):\n",
    "        if( word[current_index] == letter ):\n",
    "            letter_index = current_index\n",
    "    return letter_index"
   ]
  },
  {
   "cell_type": "markdown",
   "metadata": {},
   "source": [
    "- Notice that if the letter isn't found in the word, the function returns ``-1``\n",
    "- It is common to return a special value indicating failure of some kind\n",
    "- However, it needs to be noted in the comments so it is actually useful"
   ]
  },
  {
   "cell_type": "markdown",
   "metadata": {},
   "source": [
    "## String methods\n",
    "- A __method__ is similar to a function\n",
    "- It takes arguments and can return a value, but the syntax to use it is different\n",
    "- It operates on a variable that is an object (like a ``string``)\n",
    "- All the TurtleWorld code used methods on a turtle"
   ]
  },
  {
   "cell_type": "code",
   "execution_count": 13,
   "metadata": {},
   "outputs": [
    {
     "name": "stdout",
     "output_type": "stream",
     "text": [
      "BANANA\n"
     ]
    }
   ],
   "source": [
    "word = 'banana'\n",
    "new_word = word.upper()\n",
    "print( new_word )"
   ]
  },
  {
   "cell_type": "markdown",
   "metadata": {},
   "source": [
    "- In this case, the method ``upper`` is called on the string ``word``\n",
    "- It returns a new string with all the letters now in uppercase\n",
    "- Calling a method like this is called an __invocation__\n",
    "- Strings in Python have a number of methods already built in\n",
    "- One of them is ``find``\n",
    "- It finds th eindex of a specified substring (not just a character)\n",
    "- Python's documentation lists them all <br>\n",
    "[https://docs.python.org/3/library/stdtypes.html#string-methods](https://docs.python.org/3/library/stdtypes.html#string-methods)"
   ]
  },
  {
   "cell_type": "markdown",
   "metadata": {},
   "source": [
    "## The in operator\n",
    "- Strings have an ``in`` operator that returns ``True`` if the first string is a substring of the second"
   ]
  },
  {
   "cell_type": "code",
   "execution_count": 14,
   "metadata": {},
   "outputs": [
    {
     "name": "stdout",
     "output_type": "stream",
     "text": [
      "True\n",
      "False\n"
     ]
    }
   ],
   "source": [
    "print( 'an' in 'banana' )\n",
    "print( 'seed' in 'banana' )"
   ]
  },
  {
   "cell_type": "markdown",
   "metadata": {},
   "source": [
    "## String comparison\n",
    "- The relational equality operator ``==`` works on strings\n",
    "- The other relational operators work as well"
   ]
  },
  {
   "cell_type": "code",
   "execution_count": 17,
   "metadata": {},
   "outputs": [
    {
     "name": "stdout",
     "output_type": "stream",
     "text": [
      "Your word, apple, comes before banana.\n"
     ]
    }
   ],
   "source": [
    "word = 'apple'\n",
    "\n",
    "if( word == 'banana' ):\n",
    "    print( 'All right, bananas.' )\n",
    "\n",
    "if( word < 'banana' ):\n",
    "    print( 'Your word, ' + word + ', comes before banana.' )\n",
    "elif( word > 'banana' ):\n",
    "    print( 'Your word, ' + word + ', comes after banana.' )\n",
    "else:\n",
    "    print( 'All right, bananas.' )"
   ]
  },
  {
   "cell_type": "markdown",
   "metadata": {},
   "source": [
    "- As we have previously discussed, uppercase letters come before lowercase letters with respect to encoding\n",
    "- This means that uppercase are considered _less than_ lowercase letters\n",
    "- If you need to compare strings, it is common to convert them to all lowercase (or uppercase) before comparing unless you specifically want to compare using case"
   ]
  },
  {
   "cell_type": "markdown",
   "metadata": {},
   "source": [
    "## Debugging\n",
    "- When you traverse a sequence of items, it is sometimes challenging to get the beginning and ending indices correct\n",
    "- These are frequently referred to as off-by-one errors since you stop one early or one late\n",
    "- To aid in debugging, it is helpful to display not only the index, but the value at the index as well"
   ]
  },
  {
   "cell_type": "code",
   "execution_count": 16,
   "metadata": {},
   "outputs": [
    {
     "name": "stdout",
     "output_type": "stream",
     "text": [
      "index=[ 2 ] value=[ n ]\n"
     ]
    }
   ],
   "source": [
    "word = 'banana'\n",
    "index = 2\n",
    "print( 'index=[', index, '] value=[', word[ index ], ']' )"
   ]
  },
  {
   "cell_type": "markdown",
   "metadata": {},
   "source": [
    "## Exercises\n",
    "- Write a function ``is_palindrome`` that takes a string ``phrase`` as an argument and returns a boolean indicating whether or not the string is a palindrome."
   ]
  },
  {
   "cell_type": "code",
   "execution_count": null,
   "metadata": {},
   "outputs": [],
   "source": [
    "def is_palindrome( phrase ):\n",
    "    # YOUR CODE GOES HERE\n",
    "    return False"
   ]
  },
  {
   "cell_type": "markdown",
   "metadata": {},
   "source": [
    "- As discussed above, Python has an operator called ``in`` that determines if a character or a substring is contained in a larger string.  It returns ``True`` if the character or substring is in the larger string, otherwise, it returns ``False``.  Write a function called ``in_string`` that implements the same functionality."
   ]
  },
  {
   "cell_type": "code",
   "execution_count": null,
   "metadata": {},
   "outputs": [],
   "source": [
    "def in_string( substring, larger_string ):\n",
    "    # YOUR CODE GOES HERE\n",
    "    return False"
   ]
  },
  {
   "cell_type": "markdown",
   "metadata": {},
   "source": [
    "- Write a function that prompts a user to enter their first and last names.  The function should then print a computer username consisting of the first letter of their first name and the first seven letters of their last name."
   ]
  },
  {
   "cell_type": "code",
   "execution_count": null,
   "metadata": {},
   "outputs": [],
   "source": [
    "def create_username():\n",
    "    username = ''\n",
    "    # YOUR CODE HERE\n",
    "    print( username )"
   ]
  }
 ],
 "metadata": {
  "kernelspec": {
   "display_name": "Python 3",
   "language": "python",
   "name": "python3"
  },
  "language_info": {
   "codemirror_mode": {
    "name": "ipython",
    "version": 3
   },
   "file_extension": ".py",
   "mimetype": "text/x-python",
   "name": "python",
   "nbconvert_exporter": "python",
   "pygments_lexer": "ipython3",
   "version": "3.7.3"
  }
 },
 "nbformat": 4,
 "nbformat_minor": 2
}
